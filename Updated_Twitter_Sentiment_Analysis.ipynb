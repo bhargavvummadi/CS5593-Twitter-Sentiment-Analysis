{
 "cells": [
  {
   "cell_type": "code",
   "execution_count": 1,
   "id": "965bf207-9e3f-4bdf-86d5-958b025d5e3e",
   "metadata": {
    "colab": {
     "base_uri": "https://localhost:8080/"
    },
    "id": "965bf207-9e3f-4bdf-86d5-958b025d5e3e",
    "outputId": "6d4e37be-a51b-4a70-efad-cde5fc12dfa3"
   },
   "outputs": [
    {
     "name": "stdout",
     "output_type": "stream",
     "text": [
      "Requirement already satisfied: tweepy in c:\\users\\bharg\\appdata\\local\\programs\\python\\python310\\lib\\site-packages (4.10.1)\n",
      "Requirement already satisfied: oauthlib<4,>=3.2.0 in c:\\users\\bharg\\appdata\\local\\programs\\python\\python310\\lib\\site-packages (from tweepy) (3.2.1)\n",
      "Requirement already satisfied: requests<3,>=2.27.0 in c:\\users\\bharg\\appdata\\local\\programs\\python\\python310\\lib\\site-packages (from tweepy) (2.28.1)\n",
      "Requirement already satisfied: requests-oauthlib<2,>=1.2.0 in c:\\users\\bharg\\appdata\\local\\programs\\python\\python310\\lib\\site-packages (from tweepy) (1.3.1)\n",
      "Requirement already satisfied: idna<4,>=2.5 in c:\\users\\bharg\\appdata\\local\\programs\\python\\python310\\lib\\site-packages (from requests<3,>=2.27.0->tweepy) (3.4)\n",
      "Requirement already satisfied: charset-normalizer<3,>=2 in c:\\users\\bharg\\appdata\\local\\programs\\python\\python310\\lib\\site-packages (from requests<3,>=2.27.0->tweepy) (2.1.1)\n",
      "Requirement already satisfied: urllib3<1.27,>=1.21.1 in c:\\users\\bharg\\appdata\\local\\programs\\python\\python310\\lib\\site-packages (from requests<3,>=2.27.0->tweepy) (1.26.12)\n",
      "Requirement already satisfied: certifi>=2017.4.17 in c:\\users\\bharg\\appdata\\local\\programs\\python\\python310\\lib\\site-packages (from requests<3,>=2.27.0->tweepy) (2022.9.24)\n"
     ]
    },
    {
     "name": "stderr",
     "output_type": "stream",
     "text": [
      "\n",
      "[notice] A new release of pip available: 22.3 -> 22.3.1\n",
      "[notice] To update, run: python.exe -m pip install --upgrade pip\n"
     ]
    },
    {
     "name": "stdout",
     "output_type": "stream",
     "text": [
      "Requirement already satisfied: textblob in c:\\users\\bharg\\appdata\\local\\programs\\python\\python310\\lib\\site-packages (0.17.1)\n",
      "Requirement already satisfied: nltk>=3.1 in c:\\users\\bharg\\appdata\\local\\programs\\python\\python310\\lib\\site-packages (from textblob) (3.7)\n",
      "Requirement already satisfied: regex>=2021.8.3 in c:\\users\\bharg\\appdata\\local\\programs\\python\\python310\\lib\\site-packages (from nltk>=3.1->textblob) (2022.9.13)\n",
      "Requirement already satisfied: tqdm in c:\\users\\bharg\\appdata\\local\\programs\\python\\python310\\lib\\site-packages (from nltk>=3.1->textblob) (4.64.1)\n",
      "Requirement already satisfied: joblib in c:\\users\\bharg\\appdata\\local\\programs\\python\\python310\\lib\\site-packages (from nltk>=3.1->textblob) (1.2.0)\n",
      "Requirement already satisfied: click in c:\\users\\bharg\\appdata\\local\\programs\\python\\python310\\lib\\site-packages (from nltk>=3.1->textblob) (8.1.3)\n",
      "Requirement already satisfied: colorama in c:\\users\\bharg\\appdata\\local\\programs\\python\\python310\\lib\\site-packages (from click->nltk>=3.1->textblob) (0.4.5)\n"
     ]
    },
    {
     "name": "stderr",
     "output_type": "stream",
     "text": [
      "\n",
      "[notice] A new release of pip available: 22.3 -> 22.3.1\n",
      "[notice] To update, run: python.exe -m pip install --upgrade pip\n"
     ]
    },
    {
     "name": "stdout",
     "output_type": "stream",
     "text": [
      "Requirement already satisfied: wordcloud in c:\\users\\bharg\\appdata\\local\\programs\\python\\python310\\lib\\site-packages (1.8.2.2)\n",
      "Requirement already satisfied: numpy>=1.6.1 in c:\\users\\bharg\\appdata\\local\\programs\\python\\python310\\lib\\site-packages (from wordcloud) (1.23.4)\n",
      "Requirement already satisfied: pillow in c:\\users\\bharg\\appdata\\local\\programs\\python\\python310\\lib\\site-packages (from wordcloud) (9.2.0)\n",
      "Requirement already satisfied: matplotlib in c:\\users\\bharg\\appdata\\local\\programs\\python\\python310\\lib\\site-packages (from wordcloud) (3.6.2)\n",
      "Requirement already satisfied: fonttools>=4.22.0 in c:\\users\\bharg\\appdata\\local\\programs\\python\\python310\\lib\\site-packages (from matplotlib->wordcloud) (4.37.4)\n",
      "Requirement already satisfied: packaging>=20.0 in c:\\users\\bharg\\appdata\\local\\programs\\python\\python310\\lib\\site-packages (from matplotlib->wordcloud) (21.3)\n",
      "Requirement already satisfied: cycler>=0.10 in c:\\users\\bharg\\appdata\\local\\programs\\python\\python310\\lib\\site-packages (from matplotlib->wordcloud) (0.11.0)\n",
      "Requirement already satisfied: contourpy>=1.0.1 in c:\\users\\bharg\\appdata\\local\\programs\\python\\python310\\lib\\site-packages (from matplotlib->wordcloud) (1.0.5)\n",
      "Requirement already satisfied: pyparsing>=2.2.1 in c:\\users\\bharg\\appdata\\local\\programs\\python\\python310\\lib\\site-packages (from matplotlib->wordcloud) (3.0.9)\n",
      "Requirement already satisfied: kiwisolver>=1.0.1 in c:\\users\\bharg\\appdata\\local\\programs\\python\\python310\\lib\\site-packages (from matplotlib->wordcloud) (1.4.4)\n",
      "Requirement already satisfied: python-dateutil>=2.7 in c:\\users\\bharg\\appdata\\local\\programs\\python\\python310\\lib\\site-packages (from matplotlib->wordcloud) (2.8.2)\n",
      "Requirement already satisfied: six>=1.5 in c:\\users\\bharg\\appdata\\local\\programs\\python\\python310\\lib\\site-packages (from python-dateutil>=2.7->matplotlib->wordcloud) (1.16.0)\n"
     ]
    },
    {
     "name": "stderr",
     "output_type": "stream",
     "text": [
      "\n",
      "[notice] A new release of pip available: 22.3 -> 22.3.1\n",
      "[notice] To update, run: python.exe -m pip install --upgrade pip\n"
     ]
    },
    {
     "name": "stdout",
     "output_type": "stream",
     "text": [
      "Requirement already satisfied: nltk in c:\\users\\bharg\\appdata\\local\\programs\\python\\python310\\lib\\site-packages (3.7)\n",
      "Requirement already satisfied: click in c:\\users\\bharg\\appdata\\local\\programs\\python\\python310\\lib\\site-packages (from nltk) (8.1.3)\n",
      "Requirement already satisfied: joblib in c:\\users\\bharg\\appdata\\local\\programs\\python\\python310\\lib\\site-packages (from nltk) (1.2.0)\n",
      "Requirement already satisfied: tqdm in c:\\users\\bharg\\appdata\\local\\programs\\python\\python310\\lib\\site-packages (from nltk) (4.64.1)\n",
      "Requirement already satisfied: regex>=2021.8.3 in c:\\users\\bharg\\appdata\\local\\programs\\python\\python310\\lib\\site-packages (from nltk) (2022.9.13)\n",
      "Requirement already satisfied: colorama in c:\\users\\bharg\\appdata\\local\\programs\\python\\python310\\lib\\site-packages (from click->nltk) (0.4.5)\n"
     ]
    },
    {
     "name": "stderr",
     "output_type": "stream",
     "text": [
      "\n",
      "[notice] A new release of pip available: 22.3 -> 22.3.1\n",
      "[notice] To update, run: python.exe -m pip install --upgrade pip\n"
     ]
    }
   ],
   "source": [
    "!pip install tweepy\n",
    "!pip install textblob\n",
    "!pip install wordcloud\n",
    "!pip install nltk"
   ]
  },
  {
   "cell_type": "code",
   "execution_count": 2,
   "id": "VYAt_9QhsZaE",
   "metadata": {
    "colab": {
     "base_uri": "https://localhost:8080/"
    },
    "id": "VYAt_9QhsZaE",
    "outputId": "449d5484-2111-4c1d-bc2c-2af6def0c90b"
   },
   "outputs": [
    {
     "name": "stdout",
     "output_type": "stream",
     "text": [
      "Requirement already satisfied: scikit-learn-intelex in c:\\users\\bharg\\appdata\\local\\programs\\python\\python310\\lib\\site-packages (2021.6.3)\n",
      "Requirement already satisfied: daal4py==2021.6.3 in c:\\users\\bharg\\appdata\\local\\programs\\python\\python310\\lib\\site-packages (from scikit-learn-intelex) (2021.6.3)\n",
      "Requirement already satisfied: scikit-learn>=0.22 in c:\\users\\bharg\\appdata\\local\\programs\\python\\python310\\lib\\site-packages (from scikit-learn-intelex) (1.1.2)\n",
      "Requirement already satisfied: daal==2021.6.0 in c:\\users\\bharg\\appdata\\local\\programs\\python\\python310\\lib\\site-packages (from daal4py==2021.6.3->scikit-learn-intelex) (2021.6.0)\n",
      "Requirement already satisfied: numpy>=1.15 in c:\\users\\bharg\\appdata\\local\\programs\\python\\python310\\lib\\site-packages (from daal4py==2021.6.3->scikit-learn-intelex) (1.23.4)\n",
      "Requirement already satisfied: tbb==2021.* in c:\\users\\bharg\\appdata\\local\\programs\\python\\python310\\lib\\site-packages (from daal==2021.6.0->daal4py==2021.6.3->scikit-learn-intelex) (2021.7.0)\n",
      "Requirement already satisfied: scipy>=1.3.2 in c:\\users\\bharg\\appdata\\local\\programs\\python\\python310\\lib\\site-packages (from scikit-learn>=0.22->scikit-learn-intelex) (1.9.2)\n",
      "Requirement already satisfied: threadpoolctl>=2.0.0 in c:\\users\\bharg\\appdata\\local\\programs\\python\\python310\\lib\\site-packages (from scikit-learn>=0.22->scikit-learn-intelex) (3.1.0)\n",
      "Requirement already satisfied: joblib>=1.0.0 in c:\\users\\bharg\\appdata\\local\\programs\\python\\python310\\lib\\site-packages (from scikit-learn>=0.22->scikit-learn-intelex) (1.2.0)\n"
     ]
    },
    {
     "name": "stderr",
     "output_type": "stream",
     "text": [
      "\n",
      "[notice] A new release of pip available: 22.3 -> 22.3.1\n",
      "[notice] To update, run: python.exe -m pip install --upgrade pip\n",
      "Intel(R) Extension for Scikit-learn* enabled (https://github.com/intel/scikit-learn-intelex)\n",
      "[nltk_data] Downloading package stopwords to\n",
      "[nltk_data]     C:\\Users\\bharg\\AppData\\Roaming\\nltk_data...\n",
      "[nltk_data]   Package stopwords is already up-to-date!\n",
      "[nltk_data] Downloading package punkt to\n",
      "[nltk_data]     C:\\Users\\bharg\\AppData\\Roaming\\nltk_data...\n",
      "[nltk_data]   Package punkt is already up-to-date!\n",
      "[nltk_data] Downloading package wordnet to\n",
      "[nltk_data]     C:\\Users\\bharg\\AppData\\Roaming\\nltk_data...\n",
      "[nltk_data]   Package wordnet is already up-to-date!\n",
      "[nltk_data] Downloading package omw-1.4 to\n",
      "[nltk_data]     C:\\Users\\bharg\\AppData\\Roaming\\nltk_data...\n",
      "[nltk_data]   Package omw-1.4 is already up-to-date!\n"
     ]
    }
   ],
   "source": [
    "\n",
    "! python -m pip install scikit-learn-intelex\n",
    "from sklearnex import patch_sklearn\n",
    "patch_sklearn()\n",
    "\n",
    "\n",
    "\n",
    "import tweepy\n",
    "import numpy as np\n",
    "import pandas as pd\n",
    "import os\n",
    "import re\n",
    "import time\n",
    "import matplotlib.pyplot as plt\n",
    "from textblob import TextBlob\n",
    "from sklearn.svm import SVC\n",
    "from wordcloud import WordCloud\n",
    "from nltk.tokenize import word_tokenize\n",
    "from nltk.corpus import stopwords\n",
    "from nltk.stem import WordNetLemmatizer\n",
    "import nltk\n",
    "nltk.download('stopwords')\n",
    "nltk.download('punkt')\n",
    "nltk.download('wordnet')\n",
    "nltk.download('omw-1.4')\n",
    "plt.style.use('fivethirtyeight')"
   ]
  },
  {
   "cell_type": "code",
   "execution_count": 3,
   "id": "NcSHR3PRy9Ut",
   "metadata": {
    "colab": {
     "base_uri": "https://localhost:8080/"
    },
    "id": "NcSHR3PRy9Ut",
    "outputId": "14aa82b7-35ae-4758-eef0-6a769e3354c6"
   },
   "outputs": [],
   "source": [
    "# Mount Google Drive\n",
    "# from google.colab import drive\n",
    "# drive.mount('/content/drive')"
   ]
  },
  {
   "cell_type": "code",
   "execution_count": 4,
   "id": "QL6Ou_98zEzK",
   "metadata": {
    "id": "QL6Ou_98zEzK"
   },
   "outputs": [],
   "source": [
    "file = '/content/drive/MyDrive/tweet_data.csv'"
   ]
  },
  {
   "cell_type": "code",
   "execution_count": 5,
   "id": "5f56795c-38ec-4d2a-9bce-49929a9796dc",
   "metadata": {
    "id": "5f56795c-38ec-4d2a-9bce-49929a9796dc"
   },
   "outputs": [],
   "source": [
    "colnames = ['target', 'id', 'date','flag','user','text']"
   ]
  },
  {
   "cell_type": "code",
   "execution_count": 6,
   "id": "a49730f9-b969-4122-b3b9-939b90397a96",
   "metadata": {
    "id": "a49730f9-b969-4122-b3b9-939b90397a96"
   },
   "outputs": [],
   "source": [
    "# originalDataDF = pd.read_csv(file,names=colnames,delimiter=',',engine='python',nrows=None,encoding='latin-1',header=None)\n",
    "\n",
    "originalDataDF = pd.read_csv('data/tweet_data.csv', names=colnames, delimiter=',' ,engine='python', nrows=None, encoding='latin-1', header=None)"
   ]
  },
  {
   "cell_type": "code",
   "execution_count": 7,
   "id": "4f55b5e7-c313-4e14-9590-2aad7086121b",
   "metadata": {
    "colab": {
     "base_uri": "https://localhost:8080/",
     "height": 424
    },
    "id": "4f55b5e7-c313-4e14-9590-2aad7086121b",
    "outputId": "60c4a2f0-af51-4a7b-d8e6-f7118a70ecf1"
   },
   "outputs": [
    {
     "data": {
      "text/html": [
       "<div>\n",
       "<style scoped>\n",
       "    .dataframe tbody tr th:only-of-type {\n",
       "        vertical-align: middle;\n",
       "    }\n",
       "\n",
       "    .dataframe tbody tr th {\n",
       "        vertical-align: top;\n",
       "    }\n",
       "\n",
       "    .dataframe thead th {\n",
       "        text-align: right;\n",
       "    }\n",
       "</style>\n",
       "<table border=\"1\" class=\"dataframe\">\n",
       "  <thead>\n",
       "    <tr style=\"text-align: right;\">\n",
       "      <th></th>\n",
       "      <th>target</th>\n",
       "      <th>id</th>\n",
       "      <th>date</th>\n",
       "      <th>flag</th>\n",
       "      <th>user</th>\n",
       "      <th>text</th>\n",
       "    </tr>\n",
       "  </thead>\n",
       "  <tbody>\n",
       "    <tr>\n",
       "      <th>0</th>\n",
       "      <td>0</td>\n",
       "      <td>1467810369</td>\n",
       "      <td>Mon Apr 06 22:19:45 PDT 2009</td>\n",
       "      <td>NO_QUERY</td>\n",
       "      <td>_TheSpecialOne_</td>\n",
       "      <td>@switchfoot http://twitpic.com/2y1zl - Awww, t...</td>\n",
       "    </tr>\n",
       "    <tr>\n",
       "      <th>1</th>\n",
       "      <td>0</td>\n",
       "      <td>1467810672</td>\n",
       "      <td>Mon Apr 06 22:19:49 PDT 2009</td>\n",
       "      <td>NO_QUERY</td>\n",
       "      <td>scotthamilton</td>\n",
       "      <td>is upset that he can't update his Facebook by ...</td>\n",
       "    </tr>\n",
       "    <tr>\n",
       "      <th>2</th>\n",
       "      <td>0</td>\n",
       "      <td>1467810917</td>\n",
       "      <td>Mon Apr 06 22:19:53 PDT 2009</td>\n",
       "      <td>NO_QUERY</td>\n",
       "      <td>mattycus</td>\n",
       "      <td>@Kenichan I dived many times for the ball. Man...</td>\n",
       "    </tr>\n",
       "    <tr>\n",
       "      <th>3</th>\n",
       "      <td>0</td>\n",
       "      <td>1467811184</td>\n",
       "      <td>Mon Apr 06 22:19:57 PDT 2009</td>\n",
       "      <td>NO_QUERY</td>\n",
       "      <td>ElleCTF</td>\n",
       "      <td>my whole body feels itchy and like its on fire</td>\n",
       "    </tr>\n",
       "    <tr>\n",
       "      <th>4</th>\n",
       "      <td>0</td>\n",
       "      <td>1467811193</td>\n",
       "      <td>Mon Apr 06 22:19:57 PDT 2009</td>\n",
       "      <td>NO_QUERY</td>\n",
       "      <td>Karoli</td>\n",
       "      <td>@nationwideclass no, it's not behaving at all....</td>\n",
       "    </tr>\n",
       "  </tbody>\n",
       "</table>\n",
       "</div>"
      ],
      "text/plain": [
       "   target          id                          date      flag  \\\n",
       "0       0  1467810369  Mon Apr 06 22:19:45 PDT 2009  NO_QUERY   \n",
       "1       0  1467810672  Mon Apr 06 22:19:49 PDT 2009  NO_QUERY   \n",
       "2       0  1467810917  Mon Apr 06 22:19:53 PDT 2009  NO_QUERY   \n",
       "3       0  1467811184  Mon Apr 06 22:19:57 PDT 2009  NO_QUERY   \n",
       "4       0  1467811193  Mon Apr 06 22:19:57 PDT 2009  NO_QUERY   \n",
       "\n",
       "              user                                               text  \n",
       "0  _TheSpecialOne_  @switchfoot http://twitpic.com/2y1zl - Awww, t...  \n",
       "1    scotthamilton  is upset that he can't update his Facebook by ...  \n",
       "2         mattycus  @Kenichan I dived many times for the ball. Man...  \n",
       "3          ElleCTF    my whole body feels itchy and like its on fire   \n",
       "4           Karoli  @nationwideclass no, it's not behaving at all....  "
      ]
     },
     "execution_count": 7,
     "metadata": {},
     "output_type": "execute_result"
    }
   ],
   "source": [
    "originalDataDF.head()"
   ]
  },
  {
   "cell_type": "code",
   "execution_count": null,
   "id": "_AtqggB6du83",
   "metadata": {
    "id": "_AtqggB6du83"
   },
   "outputs": [],
   "source": []
  },
  {
   "cell_type": "code",
   "execution_count": 8,
   "id": "s6VoTE8hePIa",
   "metadata": {
    "id": "s6VoTE8hePIa"
   },
   "outputs": [],
   "source": [
    "# def datasplitfortraining(l1=[],l2=[],m=0):\n",
    "#     k = 0\n",
    "#     for i in range(len(requiredTweetData)):\n",
    "#         if(k==5000):\n",
    "#             break\n",
    "#         if requiredTweetData['target'][i] == m:\n",
    "#             l1.append(requiredTweetData['target'][i])\n",
    "#             l2.append(requiredTweetData['text'][i])\n",
    "#             k+=1\n",
    "#     newmodifieddf = pd.DataFrame({'target':l1,'text':l2})\n",
    "#     return newmodifieddf\n",
    "\n",
    "\n",
    "\n",
    "# d1 = datasplitfortraining(m=4)\n",
    "# d2 = datasplitfortraining(m=2)\n",
    "# d3 = datasplitfortraining(m=0)"
   ]
  },
  {
   "cell_type": "code",
   "execution_count": 9,
   "id": "qzJ4JUIEsj8F",
   "metadata": {
    "id": "qzJ4JUIEsj8F"
   },
   "outputs": [],
   "source": [
    "def handling_emojis(text):\n",
    "    # Smile -- :), : ), :-), (:, ( :, (-:, :')\n",
    "    text = re.sub(r'(:\\s?\\)|:-\\)|\\(\\s?:|\\(-:|:\\'\\))', ' EMO_POS ', text)\n",
    "    # Laugh -- :D, : D, :-D, xD, x-D, XD, X-D\n",
    "    text = re.sub(r'(:\\s?D|:-D|x-?D|X-?D)', ' EMO_POS ', text)\n",
    "    # Love -- <3, :*\n",
    "    text = re.sub(r'(<3|:\\*)', ' EMO_POS ', text)\n",
    "    # Wink -- ;-), ;), ;-D, ;D, (;,  (-;\n",
    "    text = re.sub(r'(;-?\\)|;-?D|\\(-?;)', ' EMO_POS ', text)\n",
    "    # Sad -- :-(, : (, :(, ):, )-:\n",
    "    text = re.sub(r'(:\\s?\\(|:-\\(|\\)\\s?:|\\)-:)', ' EMO_NEG ', text)\n",
    "    # Cry -- :,(, :'(, :\"(\n",
    "    text = re.sub(r'(:,\\(|:\\'\\(|:\"\\()', ' EMO_NEG ', text)\n",
    "    \n",
    "    return text"
   ]
  },
  {
   "cell_type": "code",
   "execution_count": 10,
   "id": "ca3ANqtIskbI",
   "metadata": {
    "id": "ca3ANqtIskbI"
   },
   "outputs": [],
   "source": [
    "# cleaning the text\n",
    "\n",
    "# removing tagged username '@'\n",
    "def cleaningText(text):\n",
    "    text = text.strip('\\'\"?!,.():;') # removing punctuation\n",
    "    text = re.sub(r'(.)\\1+', r'\\1\\1', text) # convert more than 2 letter repetitions to 2 letter #fooood -> food\n",
    "    text = re.sub(r'(-|\\')','',text) # removing additional -& '\n",
    "    text = re.sub(r'@[A-Za-z0-9]+','',text) #removing @usernames\n",
    "    text = re.sub(r'#','',text) #removing '#' symbols\n",
    "    text = re.sub(r'RT[\\s]+','',text) #removes RT(Re-Tweet) string \n",
    "    text = re.sub(r'https?:\\/\\/\\S+','',text) #removing the hyperlink\n",
    "    text = re.sub(r'((www\\.[\\S]+)|(https?://[\\S]+))', '', text) #removing urls\n",
    "    # Replace 2+ dots with space\n",
    "    text = re.sub(r'\\.{2,}', ' ', text)\n",
    "    # Strip space, \" and ' from tweet\n",
    "    text = text.strip(' \"\\'')\n",
    "    # Replace emojis with either EMO_POS or EMO_NEG\n",
    "    text = handling_emojis(text)\n",
    "    # Replace multiple spaces with a single space\n",
    "    text = re.sub(r'\\s+', ' ', text)\n",
    "    text = text.lower() #make the text to lowercase\n",
    "    return text\n"
   ]
  },
  {
   "cell_type": "code",
   "execution_count": 11,
   "id": "zxuHYnxntDsm",
   "metadata": {
    "colab": {
     "base_uri": "https://localhost:8080/",
     "height": 36
    },
    "id": "zxuHYnxntDsm",
    "outputId": "280968fe-b0a4-49a7-d230-b8d4580d0c3d"
   },
   "outputs": [
    {
     "data": {
      "text/plain": [
       "'aww, thats a bummer. you shoulda got david carr of third day to do it. emo_pos '"
      ]
     },
     "execution_count": 11,
     "metadata": {},
     "output_type": "execute_result"
    }
   ],
   "source": [
    "originalDataDF['text'] = originalDataDF['text'].apply(cleaningText)\n",
    "originalDataDF['text'][0]"
   ]
  },
  {
   "cell_type": "code",
   "execution_count": 12,
   "id": "qpKnGSsrskeb",
   "metadata": {
    "id": "qpKnGSsrskeb"
   },
   "outputs": [],
   "source": [
    "contractionWords = {\n",
    "\"aren’t\":\"are not\",\"can’t\":\"can not\",\"couldn’t\":\"could not \",\"didn’t\":\"did not\",\"doesn’t\":\"does not\",\"don’t\":\"do not\",\"hadn’t\":\"had not\",\"hasn’t\":\"has not \",\"haven’t\":\"have not\",\n",
    "\"I’m\":\"I am\",\"I’ve\":\"I have\",\"isn’t\":\"is not\",\"let’s\":\"let us\",\"mightn’t\":\"might not\",\"mustn’t\":\"must not\",\"shan’t\":\"shall not\",\"shouldn’t\":\"should not\",\"that’s\":\" that is\",\"he’ll\":\" he will\",\n",
    "\"I’ll\":\"I will\",\"she’ll\":\"she will\",\"she’s\":\"she is\",\"there’s\":\"there is\",\"they’ll\":\" they will\",\"they’re\":\"they are\",\"they’ve\":\"they have\",\"we’re\":\"we are\",\"we’ve\":\"we have\",\"weren’t\":\"were not\",\n",
    "\"what’ll\":\"what will\",\"what’re\":\"what are\",\"what’ve\":\"what have\",\"where’s\":\"where is\",\"who’d\":\"who would\",\"who’ll\":\"who will\",\"who’re\":\"who are\",\"who’s\":\"who is\",\"who’ve\":\"who have\",\"won’t\":\"will not\",\n",
    "\"wouldn’t\":\"would not\",\"you’d\":\"you would\",\"you’re\":\"you are\",\"you’ve\":\"you have\",\"it’s\":\"it is\",\"wasn't\":\"was not\"\n",
    "}"
   ]
  },
  {
   "cell_type": "code",
   "execution_count": 13,
   "id": "kYmiz2l7skh5",
   "metadata": {
    "id": "kYmiz2l7skh5"
   },
   "outputs": [],
   "source": [
    "# negation handling\n",
    "def negationHandling(text):\n",
    "    words = text.split()\n",
    "    temp = [contractionWords[word] if word in contractionWords else word for word in words]\n",
    "    temp = \" \".join(temp)\n",
    "    return temp\n",
    "originalDataDF['text'] = originalDataDF['text'].apply(negationHandling)"
   ]
  },
  {
   "cell_type": "code",
   "execution_count": 14,
   "id": "HgJc2vp35DIG",
   "metadata": {
    "colab": {
     "base_uri": "https://localhost:8080/"
    },
    "id": "HgJc2vp35DIG",
    "outputId": "c22da16b-ef60-4414-8394-8650dde68e45"
   },
   "outputs": [
    {
     "data": {
      "text/plain": [
       "['aww',\n",
       " ',',\n",
       " 'thats',\n",
       " 'a',\n",
       " 'bummer',\n",
       " '.',\n",
       " 'you',\n",
       " 'shoulda',\n",
       " 'got',\n",
       " 'david',\n",
       " 'carr',\n",
       " 'of',\n",
       " 'third',\n",
       " 'day',\n",
       " 'to',\n",
       " 'do',\n",
       " 'it',\n",
       " '.',\n",
       " 'emo_pos']"
      ]
     },
     "execution_count": 14,
     "metadata": {},
     "output_type": "execute_result"
    }
   ],
   "source": [
    "word_set = []\n",
    "def wordTokenize(text):\n",
    "    tokens = word_tokenize(text)\n",
    "    return tokens\n",
    "originalDataDF['text'] = originalDataDF['text'].apply(wordTokenize)\n",
    "originalDataDF['text'][0]"
   ]
  },
  {
   "cell_type": "code",
   "execution_count": 15,
   "id": "V4oTn9rms3wG",
   "metadata": {
    "colab": {
     "base_uri": "https://localhost:8080/"
    },
    "id": "V4oTn9rms3wG",
    "outputId": "1160e68e-fcf5-4ffb-c92f-5c4779e6464e"
   },
   "outputs": [
    {
     "data": {
      "text/plain": [
       "['aww',\n",
       " ',',\n",
       " 'thats',\n",
       " 'bummer',\n",
       " '.',\n",
       " 'shoulda',\n",
       " 'got',\n",
       " 'david',\n",
       " 'carr',\n",
       " 'third',\n",
       " 'day',\n",
       " '.',\n",
       " 'emo_pos']"
      ]
     },
     "execution_count": 15,
     "metadata": {},
     "output_type": "execute_result"
    }
   ],
   "source": [
    "stop_words = stopwords.words('english')\n",
    "def removeStopWords(tokens):\n",
    "    temp = [word for word in tokens if word not in stop_words]\n",
    "    return temp\n",
    "originalDataDF['text'] = originalDataDF['text'].apply(removeStopWords)\n",
    "originalDataDF['text'][0]"
   ]
  },
  {
   "cell_type": "code",
   "execution_count": 16,
   "id": "80px5583s3y0",
   "metadata": {
    "colab": {
     "base_uri": "https://localhost:8080/"
    },
    "id": "80px5583s3y0",
    "outputId": "72febdd9-4992-4c7a-f165-95e1ee69995b"
   },
   "outputs": [
    {
     "data": {
      "text/plain": [
       "['aww', 'thats', 'bummer', 'shoulda', 'got', 'david', 'carr', 'third', 'day']"
      ]
     },
     "execution_count": 16,
     "metadata": {},
     "output_type": "execute_result"
    }
   ],
   "source": [
    "def removeUnnecessaryChars(tokens):\n",
    "    temp = [word for word in tokens if word.isalpha()]\n",
    "    return temp\n",
    "originalDataDF['text'] = originalDataDF['text'].apply(removeUnnecessaryChars)\n",
    "originalDataDF['text'][0]"
   ]
  },
  {
   "cell_type": "code",
   "execution_count": 17,
   "id": "8OHoKZNCs31n",
   "metadata": {
    "id": "8OHoKZNCs31n"
   },
   "outputs": [],
   "source": [
    "lemma = WordNetLemmatizer()\n",
    "def lemmatizeTweets(wordList):\n",
    "    temp = []\n",
    "    for word in wordList:\n",
    "        _word = lemma.lemmatize(word)\n",
    "        temp.append(_word)\n",
    "    return ' '.join(temp)\n",
    "originalDataDF['text'] = originalDataDF['text'].apply(lemmatizeTweets)\n"
   ]
  },
  {
   "cell_type": "code",
   "execution_count": null,
   "id": "nh5cmTC1s35M",
   "metadata": {
    "id": "nh5cmTC1s35M"
   },
   "outputs": [],
   "source": []
  },
  {
   "cell_type": "code",
   "execution_count": null,
   "id": "0myGj6Aps977",
   "metadata": {
    "id": "0myGj6Aps977"
   },
   "outputs": [],
   "source": []
  },
  {
   "cell_type": "code",
   "execution_count": null,
   "id": "65vV2stRs9-n",
   "metadata": {
    "id": "65vV2stRs9-n"
   },
   "outputs": [],
   "source": []
  },
  {
   "cell_type": "code",
   "execution_count": null,
   "id": "DTp8jwjOs-BC",
   "metadata": {
    "id": "DTp8jwjOs-BC"
   },
   "outputs": [],
   "source": []
  },
  {
   "cell_type": "code",
   "execution_count": 18,
   "id": "z0VHBAgds-Ec",
   "metadata": {
    "id": "z0VHBAgds-Ec"
   },
   "outputs": [],
   "source": [
    "def datasplitfortraining(l1=[],l2=[],m=0):\n",
    "    k = 0\n",
    "    for i in range(len(originalDataDF)):\n",
    "        if(k==50000):\n",
    "            break\n",
    "        if originalDataDF['target'][i] == m:\n",
    "            l1.append(originalDataDF['target'][i])\n",
    "            l2.append(originalDataDF['text'][i])\n",
    "            k+=1\n",
    "    newmodifieddf = pd.DataFrame({'target':l1,'text':l2})\n",
    "    return newmodifieddf\n",
    "\n",
    "\n",
    "\n",
    "d1 = datasplitfortraining(m=4)\n",
    "d2 = datasplitfortraining(m=2)\n",
    "d3 = datasplitfortraining(m=0)"
   ]
  },
  {
   "cell_type": "code",
   "execution_count": null,
   "id": "NAGr0G6heWiP",
   "metadata": {
    "id": "NAGr0G6heWiP"
   },
   "outputs": [],
   "source": []
  },
  {
   "cell_type": "code",
   "execution_count": 19,
   "id": "0732484f-7602-40a9-a6ff-d1627a54f468",
   "metadata": {
    "colab": {
     "base_uri": "https://localhost:8080/",
     "height": 424
    },
    "id": "0732484f-7602-40a9-a6ff-d1627a54f468",
    "outputId": "a042d2d7-1d2f-4509-dffb-06bd060b1c64"
   },
   "outputs": [
    {
     "data": {
      "text/html": [
       "<div>\n",
       "<style scoped>\n",
       "    .dataframe tbody tr th:only-of-type {\n",
       "        vertical-align: middle;\n",
       "    }\n",
       "\n",
       "    .dataframe tbody tr th {\n",
       "        vertical-align: top;\n",
       "    }\n",
       "\n",
       "    .dataframe thead th {\n",
       "        text-align: right;\n",
       "    }\n",
       "</style>\n",
       "<table border=\"1\" class=\"dataframe\">\n",
       "  <thead>\n",
       "    <tr style=\"text-align: right;\">\n",
       "      <th></th>\n",
       "      <th>target</th>\n",
       "      <th>text</th>\n",
       "    </tr>\n",
       "  </thead>\n",
       "  <tbody>\n",
       "    <tr>\n",
       "      <th>0</th>\n",
       "      <td>4</td>\n",
       "      <td>love u guy r best</td>\n",
       "    </tr>\n",
       "    <tr>\n",
       "      <th>1</th>\n",
       "      <td>4</td>\n",
       "      <td>im meeting one besties tonight cant wait girl ...</td>\n",
       "    </tr>\n",
       "    <tr>\n",
       "      <th>2</th>\n",
       "      <td>4</td>\n",
       "      <td>thanks twitter add sunisa got meet hin show dc...</td>\n",
       "    </tr>\n",
       "    <tr>\n",
       "      <th>3</th>\n",
       "      <td>4</td>\n",
       "      <td>sick really cheap hurt much eat real food plus...</td>\n",
       "    </tr>\n",
       "    <tr>\n",
       "      <th>4</th>\n",
       "      <td>4</td>\n",
       "      <td>effect everyone</td>\n",
       "    </tr>\n",
       "    <tr>\n",
       "      <th>...</th>\n",
       "      <td>...</td>\n",
       "      <td>...</td>\n",
       "    </tr>\n",
       "    <tr>\n",
       "      <th>99995</th>\n",
       "      <td>0</td>\n",
       "      <td>insomnia prob slept hr woke nd couldnt go back...</td>\n",
       "    </tr>\n",
       "    <tr>\n",
       "      <th>99996</th>\n",
       "      <td>0</td>\n",
       "      <td>mintues late meeting starting howd know going ...</td>\n",
       "    </tr>\n",
       "    <tr>\n",
       "      <th>99997</th>\n",
       "      <td>0</td>\n",
       "      <td>super excited tweeting event happening way fol...</td>\n",
       "    </tr>\n",
       "    <tr>\n",
       "      <th>99998</th>\n",
       "      <td>0</td>\n",
       "      <td>want another day much sht today got quot quot ...</td>\n",
       "    </tr>\n",
       "    <tr>\n",
       "      <th>99999</th>\n",
       "      <td>0</td>\n",
       "      <td>jacked umbrella cake</td>\n",
       "    </tr>\n",
       "  </tbody>\n",
       "</table>\n",
       "<p>100000 rows × 2 columns</p>\n",
       "</div>"
      ],
      "text/plain": [
       "       target                                               text\n",
       "0           4                                  love u guy r best\n",
       "1           4  im meeting one besties tonight cant wait girl ...\n",
       "2           4  thanks twitter add sunisa got meet hin show dc...\n",
       "3           4  sick really cheap hurt much eat real food plus...\n",
       "4           4                                    effect everyone\n",
       "...       ...                                                ...\n",
       "99995       0  insomnia prob slept hr woke nd couldnt go back...\n",
       "99996       0  mintues late meeting starting howd know going ...\n",
       "99997       0  super excited tweeting event happening way fol...\n",
       "99998       0  want another day much sht today got quot quot ...\n",
       "99999       0                               jacked umbrella cake\n",
       "\n",
       "[100000 rows x 2 columns]"
      ]
     },
     "execution_count": 19,
     "metadata": {},
     "output_type": "execute_result"
    }
   ],
   "source": [
    "# temp_pos = d3.loc[d3['target'] == 0]\n",
    "# temp_neg = d3.loc[d3['target'] == 4]\n",
    "d3"
   ]
  },
  {
   "cell_type": "code",
   "execution_count": null,
   "id": "dc932545-6a18-473d-a49c-8a7c011538d2",
   "metadata": {
    "id": "dc932545-6a18-473d-a49c-8a7c011538d2"
   },
   "outputs": [],
   "source": []
  },
  {
   "cell_type": "code",
   "execution_count": null,
   "id": "6cdf1be7-e383-4755-a424-86e2d3db6b4d",
   "metadata": {
    "id": "6cdf1be7-e383-4755-a424-86e2d3db6b4d"
   },
   "outputs": [],
   "source": []
  },
  {
   "cell_type": "code",
   "execution_count": null,
   "id": "522ecb36-ca1f-4a62-bfb0-0958cb626314",
   "metadata": {
    "id": "522ecb36-ca1f-4a62-bfb0-0958cb626314"
   },
   "outputs": [],
   "source": []
  },
  {
   "cell_type": "code",
   "execution_count": 20,
   "id": "9727113e-5fe6-425b-aa9c-6064c235ab0d",
   "metadata": {
    "id": "9727113e-5fe6-425b-aa9c-6064c235ab0d"
   },
   "outputs": [],
   "source": [
    "from sklearn.feature_extraction.text import TfidfVectorizer"
   ]
  },
  {
   "cell_type": "code",
   "execution_count": 21,
   "id": "SFR-S9c5-_vE",
   "metadata": {
    "colab": {
     "base_uri": "https://localhost:8080/",
     "height": 250
    },
    "id": "SFR-S9c5-_vE",
    "outputId": "ed3a50d4-2eda-4d1b-cc66-21eaf5115ba8"
   },
   "outputs": [
    {
     "data": {
      "image/png": "[encoded data removed]",
      "text/plain": [
       "<Figure size 640x480 with 1 Axes>"
      ]
     },
     "metadata": {},
     "output_type": "display_data"
    }
   ],
   "source": [
    "allwords = ''.join([t for t in d3['text']])\n",
    "wordCloud = WordCloud(width=600,height=350,random_state=59,max_font_size=120).generate(allwords)\n",
    "\n",
    "plt.imshow(wordCloud, interpolation= \"bilinear\")\n",
    "plt.axis('off')\n",
    "plt.show()"
   ]
  },
  {
   "cell_type": "code",
   "execution_count": 22,
   "id": "4329b030-97ce-49ad-b36b-1068f45214af",
   "metadata": {
    "id": "4329b030-97ce-49ad-b36b-1068f45214af"
   },
   "outputs": [],
   "source": [
    "vectorizer = TfidfVectorizer(min_df = 5,max_df=0.8,sublinear_tf = True,use_idf = True)"
   ]
  },
  {
   "cell_type": "code",
   "execution_count": 23,
   "id": "0bf95ce7-b2d4-4c48-ac20-959564f056b5",
   "metadata": {
    "id": "0bf95ce7-b2d4-4c48-ac20-959564f056b5"
   },
   "outputs": [],
   "source": [
    "train_vectors = vectorizer.fit_transform(d3['text'])"
   ]
  },
  {
   "cell_type": "code",
   "execution_count": 24,
   "id": "O4MnALEpYFtG",
   "metadata": {
    "colab": {
     "base_uri": "https://localhost:8080/"
    },
    "id": "O4MnALEpYFtG",
    "outputId": "2a050481-232e-441b-ea89-aabd6205ed7f"
   },
   "outputs": [
    {
     "name": "stdout",
     "output_type": "stream",
     "text": [
      "[[0. 0. 0. ... 0. 0. 0.]\n",
      " [0. 0. 0. ... 0. 0. 0.]\n",
      " [0. 0. 0. ... 0. 0. 0.]\n",
      " ...\n",
      " [0. 0. 0. ... 0. 0. 0.]\n",
      " [0. 0. 0. ... 0. 0. 0.]\n",
      " [0. 0. 0. ... 0. 0. 0.]]\n"
     ]
    }
   ],
   "source": [
    "print(train_vectors.toarray())"
   ]
  },
  {
   "cell_type": "code",
   "execution_count": 25,
   "id": "eca3bcc3-27c3-4987-aada-f64f9e36a2ea",
   "metadata": {},
   "outputs": [],
   "source": [
    "for i in train_vectors.toarray():\n",
    "    for j in i:\n",
    "        if j!=0:\n",
    "            pass\n",
    "            # print(j)"
   ]
  },
  {
   "cell_type": "code",
   "execution_count": 28,
   "id": "b130d072-434c-41c7-b750-eba0b8c8e51c",
   "metadata": {},
   "outputs": [],
   "source": [
    "X = train_vectors.toarray()\n",
    "y = np.where(d3['target'] == 0 , -1 , 1)"
   ]
  },
  {
   "cell_type": "code",
   "execution_count": 29,
   "id": "30b4092a-d7c1-4001-8898-ff5e982214e3",
   "metadata": {},
   "outputs": [],
   "source": [
    "from sklearn.model_selection import train_test_split\n",
    "\n",
    "X_train, X_test, y_train, y_test = train_test_split(X, y, test_size=0.2,stratify=y, random_state=42)"
   ]
  },
  {
   "cell_type": "code",
   "execution_count": 35,
   "id": "74126c21-30b9-4986-9ca3-9d5ba7834405",
   "metadata": {},
   "outputs": [
    {
     "data": {
      "text/plain": [
       "(80000, 9094)"
      ]
     },
     "execution_count": 35,
     "metadata": {},
     "output_type": "execute_result"
    }
   ],
   "source": [
    "X_train.shape"
   ]
  },
  {
   "cell_type": "code",
   "execution_count": 36,
   "id": "b8ddcca3-1178-4103-94a0-0d8fafe234aa",
   "metadata": {},
   "outputs": [
    {
     "data": {
      "text/plain": [
       "(80000,)"
      ]
     },
     "execution_count": 36,
     "metadata": {},
     "output_type": "execute_result"
    }
   ],
   "source": [
    "y_train.shape"
   ]
  },
  {
   "cell_type": "code",
   "execution_count": 40,
   "id": "b02942be-1f3b-4ed8-b802-d63dc17bf3a0",
   "metadata": {},
   "outputs": [],
   "source": [
    "svm_model = SVC(kernel='linear')\n",
    "\n"
   ]
  },
  {
   "cell_type": "code",
   "execution_count": 41,
   "id": "9f777f37-911e-4a89-bce0-4eb158586598",
   "metadata": {},
   "outputs": [
    {
     "data": {
      "text/html": [
       "<style>#sk-container-id-1 {color: black;background-color: white;}#sk-container-id-1 pre{padding: 0;}#sk-container-id-1 div.sk-toggleable {background-color: white;}#sk-container-id-1 label.sk-toggleable__label {cursor: pointer;display: block;width: 100%;margin-bottom: 0;padding: 0.3em;box-sizing: border-box;text-align: center;}#sk-container-id-1 label.sk-toggleable__label-arrow:before {content: \"▸\";float: left;margin-right: 0.25em;color: #696969;}#sk-container-id-1 label.sk-toggleable__label-arrow:hover:before {color: black;}#sk-container-id-1 div.sk-estimator:hover label.sk-toggleable__label-arrow:before {color: black;}#sk-container-id-1 div.sk-toggleable__content {max-height: 0;max-width: 0;overflow: hidden;text-align: left;background-color: #f0f8ff;}#sk-container-id-1 div.sk-toggleable__content pre {margin: 0.2em;color: black;border-radius: 0.25em;background-color: #f0f8ff;}#sk-container-id-1 input.sk-toggleable__control:checked~div.sk-toggleable__content {max-height: 200px;max-width: 100%;overflow: auto;}#sk-container-id-1 input.sk-toggleable__control:checked~label.sk-toggleable__label-arrow:before {content: \"▾\";}#sk-container-id-1 div.sk-estimator input.sk-toggleable__control:checked~label.sk-toggleable__label {background-color: #d4ebff;}#sk-container-id-1 div.sk-label input.sk-toggleable__control:checked~label.sk-toggleable__label {background-color: #d4ebff;}#sk-container-id-1 input.sk-hidden--visually {border: 0;clip: rect(1px 1px 1px 1px);clip: rect(1px, 1px, 1px, 1px);height: 1px;margin: -1px;overflow: hidden;padding: 0;position: absolute;width: 1px;}#sk-container-id-1 div.sk-estimator {font-family: monospace;background-color: #f0f8ff;border: 1px dotted black;border-radius: 0.25em;box-sizing: border-box;margin-bottom: 0.5em;}#sk-container-id-1 div.sk-estimator:hover {background-color: #d4ebff;}#sk-container-id-1 div.sk-parallel-item::after {content: \"\";width: 100%;border-bottom: 1px solid gray;flex-grow: 1;}#sk-container-id-1 div.sk-label:hover label.sk-toggleable__label {background-color: #d4ebff;}#sk-container-id-1 div.sk-serial::before {content: \"\";position: absolute;border-left: 1px solid gray;box-sizing: border-box;top: 0;bottom: 0;left: 50%;z-index: 0;}#sk-container-id-1 div.sk-serial {display: flex;flex-direction: column;align-items: center;background-color: white;padding-right: 0.2em;padding-left: 0.2em;position: relative;}#sk-container-id-1 div.sk-item {position: relative;z-index: 1;}#sk-container-id-1 div.sk-parallel {display: flex;align-items: stretch;justify-content: center;background-color: white;position: relative;}#sk-container-id-1 div.sk-item::before, #sk-container-id-1 div.sk-parallel-item::before {content: \"\";position: absolute;border-left: 1px solid gray;box-sizing: border-box;top: 0;bottom: 0;left: 50%;z-index: -1;}#sk-container-id-1 div.sk-parallel-item {display: flex;flex-direction: column;z-index: 1;position: relative;background-color: white;}#sk-container-id-1 div.sk-parallel-item:first-child::after {align-self: flex-end;width: 50%;}#sk-container-id-1 div.sk-parallel-item:last-child::after {align-self: flex-start;width: 50%;}#sk-container-id-1 div.sk-parallel-item:only-child::after {width: 0;}#sk-container-id-1 div.sk-dashed-wrapped {border: 1px dashed gray;margin: 0 0.4em 0.5em 0.4em;box-sizing: border-box;padding-bottom: 0.4em;background-color: white;}#sk-container-id-1 div.sk-label label {font-family: monospace;font-weight: bold;display: inline-block;line-height: 1.2em;}#sk-container-id-1 div.sk-label-container {text-align: center;}#sk-container-id-1 div.sk-container {/* jupyter's `normalize.less` sets `[hidden] { display: none; }` but bootstrap.min.css set `[hidden] { display: none !important; }` so we also need the `!important` here to be able to override the default hidden behavior on the sphinx rendered scikit-learn.org. See: https://github.com/scikit-learn/scikit-learn/issues/21755 */display: inline-block !important;position: relative;}#sk-container-id-1 div.sk-text-repr-fallback {display: none;}</style><div id=\"sk-container-id-1\" class=\"sk-top-container\"><div class=\"sk-text-repr-fallback\"><pre>SVC(kernel=&#x27;linear&#x27;)</pre><b>In a Jupyter environment, please rerun this cell to show the HTML representation or trust the notebook. <br />On GitHub, the HTML representation is unable to render, please try loading this page with nbviewer.org.</b></div><div class=\"sk-container\" hidden><div class=\"sk-item\"><div class=\"sk-estimator sk-toggleable\"><input class=\"sk-toggleable__control sk-hidden--visually\" id=\"sk-estimator-id-1\" type=\"checkbox\" checked><label for=\"sk-estimator-id-1\" class=\"sk-toggleable__label sk-toggleable__label-arrow\">SVC</label><div class=\"sk-toggleable__content\"><pre>SVC(kernel=&#x27;linear&#x27;)</pre></div></div></div></div></div>"
      ],
      "text/plain": [
       "SVC(kernel='linear')"
      ]
     },
     "execution_count": 41,
     "metadata": {},
     "output_type": "execute_result"
    }
   ],
   "source": [
    "svm_model.fit(X_train, y_train)"
   ]
  },
  {
   "cell_type": "code",
   "execution_count": 42,
   "id": "1901a4f8-9938-4b9e-be5a-a7b55be40e28",
   "metadata": {},
   "outputs": [],
   "source": [
    "preds = svm_model.predict(X_train)"
   ]
  },
  {
   "cell_type": "code",
   "execution_count": 43,
   "id": "40fad9c6-faf9-4f29-af9b-74540116cabe",
   "metadata": {},
   "outputs": [],
   "source": [
    "import matplotlib.pyplot as plt\n",
    "import matplotlib.patheffects as peffects\n",
    "\n",
    "from matplotlib import cm\n",
    "from mpl_toolkits.mplot3d import Axes3D\n",
    "\n",
    "from sklearn.metrics import explained_variance_score, confusion_matrix\n",
    "from sklearn.metrics import roc_curve, precision_recall_curve, auc"
   ]
  },
  {
   "cell_type": "code",
   "execution_count": 44,
   "id": "07b57106-3125-4bc9-8982-ea449b7b486e",
   "metadata": {},
   "outputs": [],
   "source": [
    "def plot_confusion_matrix(cm, classes, normalize=False, \n",
    "                          title='Confusion matrix', cmap=plt.cm.Blues):\n",
    "    \"\"\"\n",
    "    This function prints and plots the confusion matrix.\n",
    "    Normalization can be applied by setting `normalize=True`.\n",
    "    PARAMS:\n",
    "        cm: the confusion matrix\n",
    "        classes: list of unique class labels\n",
    "        normalize: boolean flag whether to normalize values\n",
    "        title: figure title\n",
    "        cmap: colormap scheme\n",
    "    \"\"\"\n",
    "    # View percentages\n",
    "    if normalize:\n",
    "        cm = cm.astype('float') / cm.sum(axis=1)[:, np.newaxis]\n",
    "        print(\"Normalized confusion matrix\")\n",
    "    else:\n",
    "        print('Confusion matrix, without normalization')\n",
    "\n",
    "    print(cm)\n",
    "\n",
    "    plt.figure()\n",
    "    plt.imshow(cm, interpolation='nearest', cmap=cmap)\n",
    "    plt.title(title)\n",
    "    plt.colorbar()\n",
    "    tick_marks = np.arange(len(classes))\n",
    "    plt.xticks(tick_marks, classes, rotation=45)\n",
    "    plt.yticks(tick_marks, classes)\n",
    "\n",
    "    fmt = '.2f' if normalize else 'd'\n",
    "    thresh = cm.max() / 2.\n",
    "    for i, j in itertools.product(range(cm.shape[0]), range(cm.shape[1])):\n",
    "        plt.text(j, i, format(cm[i, j], fmt),\n",
    "                 horizontalalignment=\"center\",\n",
    "                 color=\"white\" if cm[i, j] > thresh else \"black\")\n",
    "\n",
    "    plt.ylabel('True label')\n",
    "    plt.xlabel('Predicted label')\n",
    "    plt.tight_layout()\n",
    "    plt.savefig('confusion_mtx', bbox_inches=\"tight\")\n"
   ]
  },
  {
   "cell_type": "code",
   "execution_count": 45,
   "id": "73db8347-3ee7-4907-8bb9-437a4d06bbfc",
   "metadata": {},
   "outputs": [],
   "source": [
    "def confusion_mtx_colormap(mtx, xnames, ynames, cbarlabel=\"\"):\n",
    "    ''' \n",
    "    Generate a figure that plots a colormap of a matrix\n",
    "    PARAMS:\n",
    "        mtx: matrix of values\n",
    "        xnames: list of x tick names\n",
    "        ynames: list of the y tick names\n",
    "        cbarlabel: label for the color bar\n",
    "    RETURNS:\n",
    "        fig, ax: the corresponding handles for the figure and axis\n",
    "    '''\n",
    "    nxvars = mtx.shape[1]\n",
    "    nyvars = mtx.shape[0]\n",
    "    \n",
    "    # create the figure and plot the correlation matrix\n",
    "    fig, ax = plt.subplots(figsize=(4,4))\n",
    "    im = ax.imshow(mtx, cmap='summer')\n",
    "    if not cbarlabel == \"\":\n",
    "        cbar = ax.figure.colorbar(im, ax=ax)\n",
    "        cbar.ax.set_ylabel(cbarlabel, rotation=-90, va=\"bottom\")\n",
    "    \n",
    "    # Specify the row and column ticks and labels for the figure\n",
    "    ax.set_xticks(range(nxvars))\n",
    "    ax.set_yticks(range(nyvars))\n",
    "    ax.set_xticklabels(xnames)\n",
    "    ax.set_yticklabels(ynames)\n",
    "    ax.set_xlabel(\"Predicted Labels\")\n",
    "    ax.set_ylabel(\"Actual Labels\")\n",
    "\n",
    "    # Rotate the tick labels and set their alignment.\n",
    "    plt.setp(ax.get_xticklabels(), rotation=45, \n",
    "             ha=\"right\", rotation_mode=\"anchor\")\n",
    "\n",
    "    # Loop over data dimensions and create text annotations.\n",
    "    lbl = np.array([['TN', 'FP'], ['FN', 'TP']])\n",
    "    for i in range(nyvars):\n",
    "        for j in range(nxvars):\n",
    "            text = ax.text(j, i, \"%s = %d\" % (lbl[i,j], mtx[i, j]),\n",
    "                           ha=\"center\", va=\"center\", color=\"k\")\n",
    "            #text.set_path_effects([peffects.withStroke(linewidth=2, \n",
    "            #foreground='w')])\n",
    "\n",
    "    return fig, ax\n"
   ]
  },
  {
   "cell_type": "code",
   "execution_count": 46,
   "id": "2d7f13ba-29c6-4e9c-a27d-31458ffa7d5f",
   "metadata": {},
   "outputs": [],
   "source": [
    "def ks_roc_prc_plot(targets, scores, FIGWIDTH=10, FIGHEIGHT=4, FONTSIZE=14):\n",
    "    ''' \n",
    "    Generate a figure that plots the ROC and PR Curves and the distributions \n",
    "    of the TPR and FPR over a set of thresholds. ROC plots the false alarm rate \n",
    "    versus the hit rate. The precision-recall curve (PRC) displays recall vs \n",
    "    precision\n",
    "    PARAMS:\n",
    "        targets: list of true target labels\n",
    "        scores: list of prediction scores\n",
    "    RETURNS:\n",
    "        roc_results: dict of ROC results: {'tpr', 'fpr', 'thresholds', 'AUC'}\n",
    "        prc_results: dict of PRC results: {'precision', 'recall', \n",
    "                                           'thresholds', 'AUC'}\n",
    "        fig, axs: corresponding handles for the figure and axis\n",
    "    '''\n",
    "    # Compute ROC\n",
    "    fpr, tpr, thresholds = roc_curve(targets, scores)\n",
    "    auc_roc = auc(fpr, tpr)\n",
    "    \n",
    "    # Compute precision-recall AUC\n",
    "    precision, recall, thresholds_prc = precision_recall_curve(targets, scores)\n",
    "    auc_prc = auc(recall, precision)\n",
    "    \n",
    "    roc_results = {'tpr':tpr, 'fpr':fpr, 'thresholds':thresholds, 'auc':auc_roc}\n",
    "    prc_results = {'precision':precision, 'recall':recall, 'thresholds':thresholds_prc, 'auc':auc_prc}\n",
    "    #thresholds = {'roc_thres':thresholds, 'prc_thres':thresholds_prc}\n",
    "    #auc_results = {'roc_auc':auc_roc, 'prc_auc':auc_prc}\n",
    "    \n",
    "    # Compute positve fraction\n",
    "    pos = np.where(targets)[0]\n",
    "    npos = len(pos)\n",
    "    pos_frac = npos / targets.shape[0]\n",
    "\n",
    "    # Generate KS plot\n",
    "    fig, ax = plt.subplots(1, 3, figsize=(FIGWIDTH,FIGHEIGHT))\n",
    "    axs = ax.ravel()\n",
    "    \n",
    "    ax[0].plot(thresholds, tpr, color='b')\n",
    "    ax[0].plot(thresholds, fpr, color='r')\n",
    "    ax[0].plot(thresholds, tpr - fpr, color='g')\n",
    "    ax[0].invert_xaxis()\n",
    "    ax[0].set(xlabel='threshold', ylabel='fraction')\n",
    "    ax[0].legend(['TPR', 'FPR', 'K-S Distance'], fontsize=FONTSIZE)\n",
    "    \n",
    "    # Generate ROC Curve plot\n",
    "    ax[1].plot(fpr, tpr, color='b')\n",
    "    ax[1].plot([0,1], [0,1], 'r--')\n",
    "    ax[1].set(xlabel='FPR', ylabel='TPR')\n",
    "    ax[1].set_aspect('equal', 'box')\n",
    "    auc_text = ax[1].text(.05, .95, \"AUC = %.4f\" % auc_roc, \n",
    "                          color=\"k\", fontsize=FONTSIZE)\n",
    "    print(\"ROC AUC:\", auc_roc)\n",
    "    \n",
    "    # Generate precision-recall Curve plot\n",
    "    ax[2].plot(recall, precision, color='b')\n",
    "    ax[2].set(xlabel='Recall', ylabel='Precision')\n",
    "    ax[2].set_aspect('equal', 'box')\n",
    "    auc_prc_text = plt.text(.2, .95, \"PR AUC = %.4f\" % auc_prc, \n",
    "                            color=\"k\", fontsize=FONTSIZE)\n",
    "    pos_frac_text = plt.text(.2, .85, \"%.2f %% pos\" % (pos_frac * 100), \n",
    "                             color=\"k\", fontsize=FONTSIZE)\n",
    "    print(\"PRC AUC:\", auc_prc)\n",
    "\n",
    "    return roc_results, prc_results, fig, axs\n"
   ]
  },
  {
   "cell_type": "code",
   "execution_count": 47,
   "id": "342ee566-8876-4deb-9399-fd8adf7a28e1",
   "metadata": {},
   "outputs": [],
   "source": [
    "confusion_matrix = confusion_matrix(y_train,preds)"
   ]
  },
  {
   "cell_type": "code",
   "execution_count": 50,
   "id": "d1528d3d-cbc5-42d3-9fe1-d94687a2faae",
   "metadata": {},
   "outputs": [],
   "source": [
    "targetnames = ['positive', 'negative']"
   ]
  },
  {
   "cell_type": "code",
   "execution_count": 51,
   "id": "98aa7015-f5c7-42ee-8323-74e559e08f14",
   "metadata": {},
   "outputs": [
    {
     "data": {
      "text/plain": [
       "(<Figure size 400x400 with 2 Axes>,\n",
       " <AxesSubplot: xlabel='Predicted Labels', ylabel='Actual Labels'>)"
      ]
     },
     "execution_count": 51,
     "metadata": {},
     "output_type": "execute_result"
    },
    {
     "data": {
      "image/png": "[encoded data removed]",
      "text/plain": [
       "<Figure size 400x400 with 2 Axes>"
      ]
     },
     "metadata": {},
     "output_type": "display_data"
    }
   ],
   "source": [
    "confusion_mtx_colormap(confusion_matrix,targetnames,targetnames,'count')"
   ]
  },
  {
   "cell_type": "code",
   "execution_count": 56,
   "id": "f0e030bd-0ec5-4705-91bb-d49d20d2201c",
   "metadata": {},
   "outputs": [
    {
     "name": "stdout",
     "output_type": "stream",
     "text": [
      "ROC AUC: 0.885330444375\n",
      "PRC AUC: 0.8824334481312307\n"
     ]
    },
    {
     "data": {
      "image/png": "[encoded data removed]",
      "text/plain": [
       "<Figure size 1000x400 with 3 Axes>"
      ]
     },
     "metadata": {},
     "output_type": "display_data"
    }
   ],
   "source": [
    "probas = svm_model.decision_function(X_train) #TODO\n",
    "\n",
    "\n",
    "roc_prc_results = ks_roc_prc_plot(y_train,probas)"
   ]
  },
  {
   "cell_type": "code",
   "execution_count": 59,
   "id": "39819c8e-65d1-4b87-8dd3-338bbe0d9751",
   "metadata": {},
   "outputs": [],
   "source": [
    "from sklearn.model_selection import train_test_split, GridSearchCV\n",
    "import time as timelib"
   ]
  },
  {
   "cell_type": "code",
   "execution_count": 69,
   "id": "a6d0385c-4b0f-4d51-b64a-fda2a6f41733",
   "metadata": {},
   "outputs": [],
   "source": [
    "review = \"SUPERB, I AM IN LOVE IN THIS PHONE\""
   ]
  },
  {
   "cell_type": "code",
   "execution_count": 72,
   "id": "fb650089-3b4d-4de4-9fb8-6080d5b6ba4e",
   "metadata": {},
   "outputs": [
    {
     "name": "stdout",
     "output_type": "stream",
     "text": [
      "[1]\n"
     ]
    }
   ],
   "source": [
    "review_vector = vectorizer.transform([review]) # vectorizing\n",
    "print(svm_model.predict(review_vector.toarray()))"
   ]
  },
  {
   "cell_type": "code",
   "execution_count": 73,
   "id": "42ff6aad-9fb0-4a22-92a1-75edfdee9c54",
   "metadata": {},
   "outputs": [],
   "source": [
    "review = \"Do not purchase this product. My cell phone blast when I switched the charger\""
   ]
  },
  {
   "cell_type": "code",
   "execution_count": 74,
   "id": "28746b5b-8068-4c95-ae4e-b3242b752bc9",
   "metadata": {},
   "outputs": [
    {
     "name": "stdout",
     "output_type": "stream",
     "text": [
      "[-1]\n"
     ]
    }
   ],
   "source": [
    "review_vector = vectorizer.transform([review]) # vectorizing\n",
    "print(svm_model.predict(review_vector.toarray()))"
   ]
  },
  {
   "cell_type": "code",
   "execution_count": 75,
   "id": "e9b1df8d-506c-4264-8184-9d8b43422e1e",
   "metadata": {},
   "outputs": [],
   "source": [
    "import pickle\n",
    "# pickling the vectorizer\n",
    "pickle.dump(vectorizer, open('vectorizer.sav', 'wb'))\n",
    "# pickling the model\n",
    "pickle.dump(svm_model, open('svm_model.sav', 'wb'))"
   ]
  },
  {
   "cell_type": "code",
   "execution_count": null,
   "id": "361af359-db08-4b80-bae9-8c533661710b",
   "metadata": {},
   "outputs": [],
   "source": []
  },
  {
   "cell_type": "code",
   "execution_count": null,
   "id": "3c5ef95a-58f7-41b0-b787-918cb887dbc4",
   "metadata": {},
   "outputs": [],
   "source": []
  },
  {
   "cell_type": "code",
   "execution_count": null,
   "id": "a1e3cb3a-6e25-42a3-a13b-55ff68a37125",
   "metadata": {},
   "outputs": [],
   "source": []
  },
  {
   "cell_type": "code",
   "execution_count": null,
   "id": "57d18592-ef2b-471d-bedd-5d3595a4586d",
   "metadata": {},
   "outputs": [],
   "source": []
  },
  {
   "cell_type": "code",
   "execution_count": null,
   "id": "9c0bc814-904e-4aab-aaf3-06f44999147c",
   "metadata": {},
   "outputs": [],
   "source": []
  },
  {
   "cell_type": "code",
   "execution_count": null,
   "id": "b59f820a-6797-4e10-a7c4-bccf0de6cb43",
   "metadata": {},
   "outputs": [],
   "source": []
  },
  {
   "cell_type": "code",
   "execution_count": null,
   "id": "ec7e79c8-0c7c-4eb6-939a-988dbfb16416",
   "metadata": {
    "id": "ec7e79c8-0c7c-4eb6-939a-988dbfb16416"
   },
   "outputs": [],
   "source": [
    "classifier_linear = SVC(kernel='linear')\n",
    "t0 = time.time()\n",
    "classifier_linear.fit(train_vectors, d3['target'])\n",
    "t1 = time.time()\n",
    "#prediction_linear = classifier_linear.predict(test_vectors)\n",
    "#t2 = time.time()\n",
    "time_linear_train = t1-t0\n",
    "#time_linear_predict = t2-t1 "
   ]
  },
  {
   "cell_type": "code",
   "execution_count": null,
   "id": "Kh0OdTq3jfpr",
   "metadata": {
    "id": "Kh0OdTq3jfpr"
   },
   "outputs": [],
   "source": [
    "temp_pos = d3.loc[d3['target'] == 0]\n",
    "temp_neg = d3.loc[d3['target'] == 4]"
   ]
  },
  {
   "cell_type": "code",
   "execution_count": null,
   "id": "WCdNREBgjny5",
   "metadata": {
    "id": "WCdNREBgjny5"
   },
   "outputs": [],
   "source": [
    "# pos_vectorss = vectorizer.fit_transform(temp_pos['text'])\n",
    "# neg_vectorss = vectorizer.fit_transform(temp_neg['text'])"
   ]
  },
  {
   "cell_type": "code",
   "execution_count": null,
   "id": "e744aaf7-f224-4447-afea-0cd242ea1237",
   "metadata": {
    "colab": {
     "base_uri": "https://localhost:8080/"
    },
    "id": "e744aaf7-f224-4447-afea-0cd242ea1237",
    "outputId": "fd043f54-1bfd-4ec4-d059-f1ab0fb740a6"
   },
   "outputs": [],
   "source": [
    "# results\n",
    "print(\"Training time: %fs;\" % (time_linear_train))"
   ]
  },
  {
   "cell_type": "code",
   "execution_count": null,
   "id": "FpykqdmvRPCX",
   "metadata": {
    "id": "FpykqdmvRPCX"
   },
   "outputs": [],
   "source": [
    "review = \"SUPERB, I AM IN LOVE IN THIS PHONE\""
   ]
  },
  {
   "cell_type": "code",
   "execution_count": null,
   "id": "381d3a2f-0f54-4f45-9e2a-30464e417a99",
   "metadata": {},
   "outputs": [],
   "source": [
    "review = \"This is predicted to be positive tweet\""
   ]
  },
  {
   "cell_type": "code",
   "execution_count": null,
   "id": "Dn-XIpo3RVUu",
   "metadata": {
    "colab": {
     "base_uri": "https://localhost:8080/"
    },
    "id": "Dn-XIpo3RVUu",
    "outputId": "7fee14a3-2e8b-410a-d1cf-9b4c61270929"
   },
   "outputs": [],
   "source": [
    "review_vector = vectorizer.transform([review]) # vectorizing\n",
    "print(classifier_linear.predict(review_vector))"
   ]
  },
  {
   "cell_type": "code",
   "execution_count": null,
   "id": "Vg12no1kRX2M",
   "metadata": {
    "id": "Vg12no1kRX2M"
   },
   "outputs": [],
   "source": [
    "review = \"Do not purchase this product. My cell phone blast when I switched the charger\""
   ]
  },
  {
   "cell_type": "code",
   "execution_count": null,
   "id": "6bb936eb-c2eb-4688-9872-51d1d9d82afe",
   "metadata": {},
   "outputs": [],
   "source": []
  },
  {
   "cell_type": "code",
   "execution_count": null,
   "id": "8bd2d163-4ee0-4166-b683-75fc156b32a6",
   "metadata": {},
   "outputs": [],
   "source": []
  },
  {
   "cell_type": "code",
   "execution_count": null,
   "id": "44dce8fa-3dd3-4fd9-b6dc-92d0b0f071c4",
   "metadata": {},
   "outputs": [],
   "source": []
  },
  {
   "cell_type": "code",
   "execution_count": null,
   "id": "f4a93661-f0df-4500-8d43-6aeafb20bfbd",
   "metadata": {},
   "outputs": [],
   "source": []
  },
  {
   "cell_type": "code",
   "execution_count": null,
   "id": "fe90a067-a0fc-4708-8b04-928ffb8c09d6",
   "metadata": {},
   "outputs": [],
   "source": []
  },
  {
   "cell_type": "code",
   "execution_count": null,
   "id": "f254ce04-c911-44ac-bfe4-093a2c269119",
   "metadata": {},
   "outputs": [],
   "source": []
  },
  {
   "cell_type": "code",
   "execution_count": null,
   "id": "1ea1ac28-8381-4722-8da4-892ceefec69c",
   "metadata": {},
   "outputs": [],
   "source": []
  },
  {
   "cell_type": "code",
   "execution_count": null,
   "id": "367c730a-a51c-495a-bc29-09c471d9a17e",
   "metadata": {},
   "outputs": [],
   "source": []
  },
  {
   "cell_type": "code",
   "execution_count": null,
   "id": "a156c94c-d382-4049-b88f-8b01ee285a6f",
   "metadata": {},
   "outputs": [],
   "source": []
  },
  {
   "cell_type": "code",
   "execution_count": null,
   "id": "4afe3867-cbc0-4d4f-aa92-d838dbee1cc7",
   "metadata": {},
   "outputs": [],
   "source": []
  },
  {
   "cell_type": "code",
   "execution_count": null,
   "id": "cc0da4b6-7e04-4d54-b340-b3912cacf52a",
   "metadata": {},
   "outputs": [],
   "source": []
  },
  {
   "cell_type": "code",
   "execution_count": null,
   "id": "a135b395-7716-473f-9c33-81ccf89345bd",
   "metadata": {},
   "outputs": [],
   "source": []
  },
  {
   "cell_type": "code",
   "execution_count": null,
   "id": "b7ce9dc7-bae4-4dea-889a-29254d822094",
   "metadata": {},
   "outputs": [],
   "source": []
  },
  {
   "cell_type": "code",
   "execution_count": null,
   "id": "a57be39b-6a6d-4c8b-8f45-49c38f99094a",
   "metadata": {},
   "outputs": [],
   "source": []
  },
  {
   "cell_type": "code",
   "execution_count": null,
   "id": "d5d8b8c1-a7aa-4297-b1a5-b13829e94485",
   "metadata": {},
   "outputs": [],
   "source": []
  },
  {
   "cell_type": "code",
   "execution_count": null,
   "id": "20f361cb-afd1-4131-87a2-e0f1222d021e",
   "metadata": {},
   "outputs": [],
   "source": []
  },
  {
   "cell_type": "code",
   "execution_count": null,
   "id": "d99d5971-f33f-4520-847a-6d7c43deeefe",
   "metadata": {},
   "outputs": [],
   "source": []
  },
  {
   "cell_type": "code",
   "execution_count": null,
   "id": "4b983db3-7353-4cfd-8d6d-ff8bb296c235",
   "metadata": {},
   "outputs": [],
   "source": []
  },
  {
   "cell_type": "code",
   "execution_count": null,
   "id": "31231412-d5db-470d-a9fd-56f9bfe7797c",
   "metadata": {},
   "outputs": [],
   "source": []
  },
  {
   "cell_type": "code",
   "execution_count": null,
   "id": "44fd4a44-9678-4c59-930a-f15ac443a020",
   "metadata": {},
   "outputs": [],
   "source": []
  },
  {
   "cell_type": "code",
   "execution_count": null,
   "id": "7149d670-4bfb-42c4-b92f-c5071e4d7019",
   "metadata": {},
   "outputs": [],
   "source": []
  },
  {
   "cell_type": "code",
   "execution_count": null,
   "id": "2c35792e-951e-4db5-88ab-09357ef2861d",
   "metadata": {},
   "outputs": [],
   "source": []
  },
  {
   "cell_type": "code",
   "execution_count": null,
   "id": "f1ef6c46-3fa2-4ae6-82d7-698719e01087",
   "metadata": {},
   "outputs": [],
   "source": []
  },
  {
   "cell_type": "code",
   "execution_count": null,
   "id": "44cc68eb-59ed-422b-8680-c881d31a29da",
   "metadata": {},
   "outputs": [],
   "source": []
  },
  {
   "cell_type": "code",
   "execution_count": null,
   "id": "59652370-29a7-4ba4-b107-1e2ed6447819",
   "metadata": {},
   "outputs": [],
   "source": []
  },
  {
   "cell_type": "code",
   "execution_count": null,
   "id": "b16698d1-9777-473f-afbb-aafbfce96054",
   "metadata": {},
   "outputs": [],
   "source": []
  },
  {
   "cell_type": "code",
   "execution_count": null,
   "id": "290a27e1-8333-4ff7-bf88-f68db098336e",
   "metadata": {},
   "outputs": [],
   "source": []
  },
  {
   "cell_type": "code",
   "execution_count": null,
   "id": "Bq9v1xXghMwL",
   "metadata": {
    "id": "Bq9v1xXghMwL"
   },
   "outputs": [],
   "source": [
    "# importing some basic libraries\n",
    "%matplotlib inline\n",
    "import matplotlib.pyplot as plt\n",
    "from matplotlib import style\n",
    "style.use('ggplot')\n",
    "import random as rnd\n",
    "import numpy as np"
   ]
  },
  {
   "cell_type": "code",
   "execution_count": null,
   "id": "j5-KvJmTvbza",
   "metadata": {
    "colab": {
     "base_uri": "https://localhost:8080/"
    },
    "id": "j5-KvJmTvbza",
    "outputId": "e5ffbd73-8fec-4465-f050-67d40f78c07f"
   },
   "outputs": [],
   "source": [
    "\n"
   ]
  },
  {
   "cell_type": "code",
   "execution_count": null,
   "id": "38guVyNjhc_B",
   "metadata": {
    "id": "38guVyNjhc_B"
   },
   "outputs": [],
   "source": [
    "temp_neg = d3.loc[d3['target'] == 0]\n",
    "temp_pos = d3.loc[d3['target'] == 4]"
   ]
  },
  {
   "cell_type": "code",
   "execution_count": null,
   "id": "ir1yuqjv4m_9",
   "metadata": {
    "id": "ir1yuqjv4m_9"
   },
   "outputs": [],
   "source": [
    "neg_vec = vectorizer.fit(temp_neg['text'])"
   ]
  },
  {
   "cell_type": "code",
   "execution_count": null,
   "id": "FRLVnadK-bNc",
   "metadata": {
    "id": "FRLVnadK-bNc"
   },
   "outputs": [],
   "source": [
    "pos_vec = vectorizer.fit(temp_pos['text'])\n"
   ]
  },
  {
   "cell_type": "code",
   "execution_count": null,
   "id": "ZlAlAQhRRCWq",
   "metadata": {
    "id": "ZlAlAQhRRCWq"
   },
   "outputs": [],
   "source": []
  },
  {
   "cell_type": "code",
   "execution_count": null,
   "id": "tib_oJf4-hDa",
   "metadata": {
    "id": "tib_oJf4-hDa"
   },
   "outputs": [],
   "source": [
    "import numpy as np\n",
    "class SVM:\n",
    "    def __init__(self, learning_rate=1e-3, lambda_param=1e-2, n_iters=1000):\n",
    "        self.lr = learning_rate\n",
    "        self.lambda_param = lambda_param\n",
    "        self.n_iters = n_iters\n",
    "        self.w = None\n",
    "        self.b = None\n",
    "\n",
    "    def _init_weights_bias(self, X):\n",
    "        n_features = X.shape[1]\n",
    "        self.w = np.zeros(n_features)\n",
    "        self.b = 0\n",
    "\n",
    "    def _get_cls_map(self, y):\n",
    "        return np.where(y <= 0, -1, 1)\n",
    "\n",
    "    def _satisfy_constraint(self, x, idx):\n",
    "        linear_model = np.dot(x, self.w) + self.b \n",
    "        \n",
    "        return self.cls_map[idx] * linear_model >= 1\n",
    "    \n",
    "    def _get_gradients(self, constrain, x, idx):\n",
    "        if constrain:\n",
    "            dw = self.lambda_param * self.w\n",
    "            db = 0\n",
    "            return dw, db\n",
    "        \n",
    "        dw = self.lambda_param * self.w - np.dot(self.cls_map[idx], x)\n",
    "        db = - self.cls_map[idx]\n",
    "        return dw, db\n",
    "    \n",
    "    def _update_weights_bias(self, dw, db):\n",
    "        self.w -= self.lr * dw\n",
    "        self.b -= self.lr * db\n",
    "    \n",
    "    def fit(self, X, y):\n",
    "        self._init_weights_bias(X)\n",
    "        self.cls_map = self._get_cls_map(y)\n",
    "\n",
    "        for _ in range(self.n_iters):\n",
    "            for idx, x in enumerate(X):\n",
    "                constrain = self._satisfy_constraint(x, idx)\n",
    "                dw, db = self._get_gradients(constrain, x, idx)\n",
    "                self._update_weights_bias(dw, db)\n",
    "    \n",
    "    def predict(self, X):\n",
    "        estimate = np.dot(X, self.w) + self.b\n",
    "        prediction = np.sign(estimate)\n",
    "        return np.where(prediction == -1, 0, 1)\n",
    "        \n",
    "\n"
   ]
  },
  {
   "cell_type": "code",
   "execution_count": null,
   "id": "3bRnDl4HBbAy",
   "metadata": {
    "id": "3bRnDl4HBbAy"
   },
   "outputs": [],
   "source": [
    "svm =  SVM()\n",
    "svm.fit(train_vectors.toarray(),d3['target'])"
   ]
  },
  {
   "cell_type": "code",
   "execution_count": null,
   "id": "88b149ed-fb27-40a1-9022-6bf9e5824266",
   "metadata": {},
   "outputs": [],
   "source": [
    "for i in train_vectors.toarray():\n",
    "    for j in i:\n",
    "        if j!=0:\n",
    "            pass\n",
    "            # print(j)"
   ]
  },
  {
   "cell_type": "code",
   "execution_count": null,
   "id": "pCSYU-iRaOP1",
   "metadata": {
    "id": "pCSYU-iRaOP1"
   },
   "outputs": [],
   "source": [
    "review = \"SUPERB, I AM IN LOVE IN THIS PHONE\""
   ]
  },
  {
   "cell_type": "code",
   "execution_count": null,
   "id": "wmi-YJR5aPRj",
   "metadata": {
    "id": "wmi-YJR5aPRj"
   },
   "outputs": [],
   "source": [
    "review2 = \"Very good to know you positive\""
   ]
  },
  {
   "cell_type": "code",
   "execution_count": null,
   "id": "ZQAp3WqEabl6",
   "metadata": {
    "id": "ZQAp3WqEabl6"
   },
   "outputs": [],
   "source": [
    "review_vector = vectorizer.transform([review])"
   ]
  },
  {
   "cell_type": "code",
   "execution_count": null,
   "id": "dxe110awa4QF",
   "metadata": {
    "id": "dxe110awa4QF"
   },
   "outputs": [],
   "source": [
    "review_vector2 = vectorizer.transform([review2])"
   ]
  },
  {
   "cell_type": "code",
   "execution_count": null,
   "id": "IavfX-2QCECg",
   "metadata": {
    "colab": {
     "base_uri": "https://localhost:8080/"
    },
    "id": "IavfX-2QCECg",
    "outputId": "b806ca2e-fe12-4e61-b306-695cd412013a"
   },
   "outputs": [],
   "source": [
    "svm.predict(review_vector2.toarray())"
   ]
  },
  {
   "cell_type": "code",
   "execution_count": null,
   "id": "0ToHGef7a9BR",
   "metadata": {
    "colab": {
     "base_uri": "https://localhost:8080/"
    },
    "id": "0ToHGef7a9BR",
    "outputId": "9aa991d8-b901-422f-8cc4-b641e578d7a0"
   },
   "outputs": [],
   "source": [
    "svm.predict(review_vector2.toarray())"
   ]
  },
  {
   "cell_type": "code",
   "execution_count": null,
   "id": "89ecbd7c-b1c7-4ebf-9c54-485b52aa0adf",
   "metadata": {},
   "outputs": [],
   "source": [
    "class SVM:\n",
    "    def __init__(self, learning_rate=0.001, lambda_param=0.01, n_iters=1000):\n",
    "        self.lr = learning_rate\n",
    "        self.lambda_param = lambda_param\n",
    "        self.n_iters = n_iters\n",
    "        self.w = None\n",
    "        self.b = None\n",
    "\n",
    "    def fit(self, X, y):\n",
    "        n_samples, n_features = X.shape\n",
    "\n",
    "        y_ = np.where(y <= 0, -1, 1)\n",
    "\n",
    "        self.w = np.zeros(n_features)\n",
    "        self.b = 0\n",
    "\n",
    "        for _ in range(self.n_iters):\n",
    "            for idx, x_i in enumerate(X):\n",
    "                condition = y_[idx] * (np.dot(x_i, self.w) - self.b) >= 1\n",
    "                if condition:\n",
    "                    self.w -= self.lr * (2 * self.lambda_param * self.w)\n",
    "                else:\n",
    "                    self.w -= self.lr * (\n",
    "                        2 * self.lambda_param * self.w - np.dot(x_i, y_[idx])\n",
    "                    )\n",
    "                    self.b -= self.lr * y_[idx]\n",
    "\n",
    "    def predict(self, X):\n",
    "        approx = np.dot(X, self.w) - self.b\n",
    "        return np.sign(approx)"
   ]
  },
  {
   "cell_type": "code",
   "execution_count": null,
   "id": "20b5bf5e-cffb-4675-999c-4955a96cfbcc",
   "metadata": {},
   "outputs": [],
   "source": [
    "X = train_vectors.toarray()\n",
    "y = np.where(d3['target'] == 0 , -1 , 1)\n",
    "\n",
    "clf = SVM()\n",
    "clf.fit(X, y)"
   ]
  },
  {
   "cell_type": "code",
   "execution_count": null,
   "id": "2181a997-a7c6-4e3d-b664-6be6fdecf156",
   "metadata": {},
   "outputs": [],
   "source": [
    "review = \"SUPERB, I AM IN LOVE IN THIS PHONE\""
   ]
  },
  {
   "cell_type": "code",
   "execution_count": null,
   "id": "49cfd884-7264-465c-8737-1e0634d62b1d",
   "metadata": {},
   "outputs": [],
   "source": [
    "review_vector = vectorizer.transform([review])"
   ]
  },
  {
   "cell_type": "code",
   "execution_count": null,
   "id": "8641bd78-e628-4671-9281-200d4876f6ad",
   "metadata": {},
   "outputs": [],
   "source": [
    "for i in review_vector.toarray():\n",
    "    for j in i:\n",
    "        if j!=0:\n",
    "            print(j)"
   ]
  },
  {
   "cell_type": "code",
   "execution_count": null,
   "id": "559e1721-a7db-4a75-8f70-30cc8d956cee",
   "metadata": {},
   "outputs": [],
   "source": [
    "clf.predict(review_vector.toarray())"
   ]
  },
  {
   "cell_type": "code",
   "execution_count": null,
   "id": "23bb4511-0c50-496f-a23f-5df9e137545d",
   "metadata": {},
   "outputs": [],
   "source": [
    "review = \"Do not purchase this product. My cell phone blast when I switched the charger\""
   ]
  },
  {
   "cell_type": "code",
   "execution_count": null,
   "id": "538ee3da-81b5-4097-8e95-0a088372b2fe",
   "metadata": {},
   "outputs": [],
   "source": [
    "review_vector = vectorizer.transform([review])"
   ]
  },
  {
   "cell_type": "code",
   "execution_count": null,
   "id": "ded82706-9bb3-4fd2-886c-22aa6372a8fe",
   "metadata": {},
   "outputs": [],
   "source": [
    "for i in review_vector.toarray():\n",
    "    for j in i:\n",
    "        if j!=0:\n",
    "            print(j)"
   ]
  },
  {
   "cell_type": "code",
   "execution_count": null,
   "id": "a5cd979d-3cd0-4310-a013-b67bb37d21d0",
   "metadata": {},
   "outputs": [],
   "source": [
    "for i in clf.predict(X):\n",
    "    if i!=-1:\n",
    "        print(i)"
   ]
  },
  {
   "cell_type": "code",
   "execution_count": null,
   "id": "bab97669-9281-44ec-b02f-6eec873de4a9",
   "metadata": {},
   "outputs": [],
   "source": []
  },
  {
   "cell_type": "code",
   "execution_count": null,
   "id": "5f51aa0f-8bbf-40af-ac9d-8b92cd9ddf8a",
   "metadata": {},
   "outputs": [],
   "source": [
    "from sklearn import datasets"
   ]
  },
  {
   "cell_type": "code",
   "execution_count": null,
   "id": "f1e12eac-05ca-494f-bd2b-9c7924df344e",
   "metadata": {},
   "outputs": [],
   "source": [
    "X, y = datasets.make_blobs(\n",
    "        n_samples=50, n_features=2, centers=2, cluster_std=1.05, random_state=40)\n",
    "y = np.where(y == 0, -1, 1)"
   ]
  },
  {
   "cell_type": "code",
   "execution_count": null,
   "id": "bfe8b49c-2b02-4587-a8cb-2dba578a9d92",
   "metadata": {},
   "outputs": [],
   "source": [
    "y = np.where(d3['target'] == 0 , -1 , 1)\n",
    "y\n",
    "y.shape"
   ]
  },
  {
   "cell_type": "code",
   "execution_count": null,
   "id": "c15badd3-71f9-42df-aa1a-10597bf222a6",
   "metadata": {},
   "outputs": [],
   "source": [
    "X = train_vectors.toarray()\n",
    "X.shape"
   ]
  },
  {
   "cell_type": "code",
   "execution_count": null,
   "id": "N-v_ceFKb_6o",
   "metadata": {
    "id": "N-v_ceFKb_6o"
   },
   "outputs": [],
   "source": [
    "review = \"Negativee not likw\""
   ]
  },
  {
   "cell_type": "code",
   "execution_count": null,
   "id": "q41iLZrLmApG",
   "metadata": {
    "id": "q41iLZrLmApG"
   },
   "outputs": [],
   "source": [
    "review_vector = vectorizer.transform([review])"
   ]
  },
  {
   "cell_type": "code",
   "execution_count": null,
   "id": "4THBsJgUmEV3",
   "metadata": {
    "colab": {
     "base_uri": "https://localhost:8080/"
    },
    "id": "4THBsJgUmEV3",
    "outputId": "13f396a1-960b-40b8-b8a4-b0b8b0c94a59"
   },
   "outputs": [],
   "source": [
    "svm.predict(review_vector.toarray())"
   ]
  },
  {
   "cell_type": "code",
   "execution_count": null,
   "id": "RmkzEMrmmbI4",
   "metadata": {
    "id": "RmkzEMrmmbI4"
   },
   "outputs": [],
   "source": [
    "class SVM:\n",
    "\n",
    "    def __init__(self, C = 1.0):\n",
    "        # C = error term\n",
    "        self.C = C\n",
    "        self.w = 0\n",
    "        self.b = 0\n",
    "\n",
    "    # Hinge Loss Function / Calculation\n",
    "    def hingeloss(self, w, b, x, y):\n",
    "        # Regularizer term\n",
    "        reg = 0.5 * (w * w)\n",
    "\n",
    "        for i in range(x.shape[0]):\n",
    "            # Optimization term\n",
    "            opt_term = y[i] * ((np.dot(w, x[i])) + b)\n",
    "\n",
    "            # calculating loss\n",
    "            loss = reg + self.C * max(0, 1-opt_term)\n",
    "        return loss[0][0]\n",
    "    def transform_poly(self, X, Y=None):\n",
    "      # Finding the Square of X1, X2\n",
    "      X['x1^2'] = X['x1'] ** 2\n",
    "      X['x2^2'] = X['x2'] ** 2\n",
    "      # Finding the product of X1 and X2\n",
    "      X['x1 * x2'] = X['x1'] * X['x2']\n",
    "      # Converting dataset to numpy array\n",
    "      X = X.to_numpy()\n",
    "      if Y.size != 0:\n",
    "        Y = Y.to_numpy()\n",
    "        return X, Y\n",
    "      else:\n",
    "        return X\n",
    "\n",
    "    def fit(self, X, Y, batch_size=100, learning_rate=0.001, epochs=1000):\n",
    "        if(self.kernel == \"poly\"):\n",
    "            print(\"SVM(kernel='poly')\")\n",
    "            X, Y = self.transform_poly(X, Y)\n",
    "        else:\n",
    "            X = X.to_numpy()\n",
    "            Y = Y.to_numpy()\n",
    "        \n",
    "        # The number of features in X\n",
    "        number_of_features = X.shape[1]\n",
    "\n",
    "        # The number of Samples in X\n",
    "        number_of_samples = X.shape[0]\n",
    "\n",
    "        c = self.C\n",
    "\n",
    "        # Creating ids from 0 to number_of_samples - 1\n",
    "        ids = np.arange(number_of_samples)\n",
    "\n",
    "        # Shuffling the samples randomly\n",
    "        np.random.shuffle(ids)\n",
    "\n",
    "        # creating an array of zeros\n",
    "        w = np.zeros((1, number_of_features))\n",
    "        b = 0\n",
    "        losses = []\n",
    "\n",
    "        # Gradient Descent logic\n",
    "        for i in range(epochs):\n",
    "            # Calculating the Hinge Loss\n",
    "            l = self.hingeloss(w, b, X, Y)\n",
    "\n",
    "            # Appending all losses \n",
    "            losses.append(l)\n",
    "            \n",
    "            # Starting from 0 to the number of samples with batch_size as interval\n",
    "            for batch_initial in range(0, number_of_samples, batch_size):\n",
    "                gradw = 0\n",
    "                gradb = 0\n",
    "\n",
    "                for j in range(batch_initial, batch_initial+ batch_size):\n",
    "                    if j < number_of_samples:\n",
    "                        x = ids[j]\n",
    "                        ti = Y[x] * (np.dot(w, X[x].T) + b)\n",
    "\n",
    "                        if ti > 1:\n",
    "                            gradw += 0\n",
    "                            gradb += 0\n",
    "                        else:\n",
    "                            # Calculating the gradients\n",
    "\n",
    "                            #w.r.t w \n",
    "                            gradw += c * Y[x] * X[x]\n",
    "                            # w.r.t b\n",
    "                            gradb += c * Y[x]\n",
    "\n",
    "                # Updating weights and bias\n",
    "                w = w - learning_rate * w + learning_rate * gradw\n",
    "                b = b + learning_rate * gradb\n",
    "        \n",
    "        self.w = w\n",
    "        self.b = b\n",
    "\n",
    "        return self.w, self.b, losses\n",
    "\n",
    "    def predict(self, X):\n",
    "      if(self.kernel == \"poly\"):\n",
    "        X = self.transform_poly(X, np.array([]))\n",
    "      else:\n",
    "        X.to_numpy()\n",
    "      linear_prediction = np.dot(X, self.w[0]) + self.b\n",
    "      return np.sign(linear_prediction)\n",
    "        "
   ]
  },
  {
   "cell_type": "code",
   "execution_count": null,
   "id": "RCXf8o6hEDfL",
   "metadata": {
    "id": "RCXf8o6hEDfL"
   },
   "outputs": [],
   "source": [
    "vectorizer = TfidfVectorizer(sublinear_tf = True,use_idf = True)"
   ]
  },
  {
   "cell_type": "code",
   "execution_count": null,
   "id": "m5_ubGfeEP24",
   "metadata": {
    "id": "m5_ubGfeEP24"
   },
   "outputs": [],
   "source": [
    "train_vectors = vectorizer.fit_transform(d3['text'])"
   ]
  },
  {
   "cell_type": "code",
   "execution_count": null,
   "id": "u3GnKXQEEb-G",
   "metadata": {
    "id": "u3GnKXQEEb-G"
   },
   "outputs": [],
   "source": [
    "X = pd.DataFrame(train_vectors.toarray())"
   ]
  },
  {
   "cell_type": "code",
   "execution_count": null,
   "id": "U0TSBSQUEl2O",
   "metadata": {
    "id": "U0TSBSQUEl2O"
   },
   "outputs": [],
   "source": [
    "y = pd.DataFrame(d3['target'])"
   ]
  },
  {
   "cell_type": "code",
   "execution_count": null,
   "id": "nYHDTJPLE0hM",
   "metadata": {
    "colab": {
     "base_uri": "https://localhost:8080/",
     "height": 424
    },
    "id": "nYHDTJPLE0hM",
    "outputId": "d7d5dbdb-cc94-4317-dba3-a7cbe4299593"
   },
   "outputs": [],
   "source": [
    "y"
   ]
  },
  {
   "cell_type": "code",
   "execution_count": null,
   "id": "uXiUmsIWFFM0",
   "metadata": {
    "id": "uXiUmsIWFFM0"
   },
   "outputs": [],
   "source": [
    "from sklearn.model_selection import train_test_split\n",
    "\n",
    "X_train, X_test, y_train, y_test = train_test_split(X, y, test_size=0.7, random_state=42)"
   ]
  },
  {
   "cell_type": "code",
   "execution_count": null,
   "id": "WU90QAq2FLrI",
   "metadata": {
    "id": "WU90QAq2FLrI"
   },
   "outputs": [],
   "source": [
    "from sklearn.metrics import accuracy_score\n",
    "\n",
    "svm = SVM_Scratch(kernel=\"poly\")\n",
    "\n",
    "w, b, losses = svm.fit(X_train, y_train)\n",
    "\n",
    "pred = svm.predict(X_test)\n",
    "\n",
    "accuracy_score(\"Accuracy:\",pred, y_test)"
   ]
  },
  {
   "cell_type": "code",
   "execution_count": null,
   "id": "FGugwdVPFUes",
   "metadata": {
    "id": "FGugwdVPFUes"
   },
   "outputs": [],
   "source": []
  }
 ],
 "metadata": {
  "colab": {
   "provenance": []
  },
  "kernelspec": {
   "display_name": "Python 3 (ipykernel)",
   "language": "python",
   "name": "python3"
  },
  "language_info": {
   "codemirror_mode": {
    "name": "ipython",
    "version": 3
   },
   "file_extension": ".py",
   "mimetype": "text/x-python",
   "name": "python",
   "nbconvert_exporter": "python",
   "pygments_lexer": "ipython3",
   "version": "3.10.8"
  }
 },
 "nbformat": 4,
 "nbformat_minor": 5
}
