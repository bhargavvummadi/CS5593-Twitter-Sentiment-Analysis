{
 "cells": [
  {
   "cell_type": "code",
   "execution_count": 2,
   "id": "965bf207-9e3f-4bdf-86d5-958b025d5e3e",
   "metadata": {
    "colab": {
     "base_uri": "https://localhost:8080/"
    },
    "id": "965bf207-9e3f-4bdf-86d5-958b025d5e3e",
    "outputId": "6d4e37be-a51b-4a70-efad-cde5fc12dfa3"
   },
   "outputs": [
    {
     "name": "stdout",
     "output_type": "stream",
     "text": [
      "Requirement already satisfied: tweepy in c:\\users\\saida\\appdata\\local\\programs\\python\\python310\\lib\\site-packages (4.10.1)\n",
      "Requirement already satisfied: requests<3,>=2.27.0 in c:\\users\\saida\\appdata\\local\\programs\\python\\python310\\lib\\site-packages (from tweepy) (2.28.1)\n",
      "Requirement already satisfied: oauthlib<4,>=3.2.0 in c:\\users\\saida\\appdata\\local\\programs\\python\\python310\\lib\\site-packages (from tweepy) (3.2.1)\n",
      "Requirement already satisfied: requests-oauthlib<2,>=1.2.0 in c:\\users\\saida\\appdata\\local\\programs\\python\\python310\\lib\\site-packages (from tweepy) (1.3.1)\n",
      "Requirement already satisfied: idna<4,>=2.5 in c:\\users\\saida\\appdata\\local\\programs\\python\\python310\\lib\\site-packages (from requests<3,>=2.27.0->tweepy) (3.3)\n",
      "Requirement already satisfied: urllib3<1.27,>=1.21.1 in c:\\users\\saida\\appdata\\local\\programs\\python\\python310\\lib\\site-packages (from requests<3,>=2.27.0->tweepy) (1.26.12)\n",
      "Requirement already satisfied: charset-normalizer<3,>=2 in c:\\users\\saida\\appdata\\local\\programs\\python\\python310\\lib\\site-packages (from requests<3,>=2.27.0->tweepy) (2.1.1)\n",
      "Requirement already satisfied: certifi>=2017.4.17 in c:\\users\\saida\\appdata\\local\\programs\\python\\python310\\lib\\site-packages (from requests<3,>=2.27.0->tweepy) (2021.10.8)\n"
     ]
    },
    {
     "name": "stderr",
     "output_type": "stream",
     "text": [
      "WARNING: You are using pip version 22.0.4; however, version 22.3.1 is available.\n",
      "You should consider upgrading via the 'C:\\Users\\saida\\AppData\\Local\\Programs\\Python\\Python310\\python.exe -m pip install --upgrade pip' command.\n"
     ]
    },
    {
     "name": "stdout",
     "output_type": "stream",
     "text": [
      "Requirement already satisfied: textblob in c:\\users\\saida\\appdata\\local\\programs\\python\\python310\\lib\\site-packages (0.17.1)\n",
      "Requirement already satisfied: nltk>=3.1 in c:\\users\\saida\\appdata\\local\\programs\\python\\python310\\lib\\site-packages (from textblob) (3.7)\n",
      "Requirement already satisfied: tqdm in c:\\users\\saida\\appdata\\local\\programs\\python\\python310\\lib\\site-packages (from nltk>=3.1->textblob) (4.64.1)\n",
      "Requirement already satisfied: click in c:\\users\\saida\\appdata\\local\\programs\\python\\python310\\lib\\site-packages (from nltk>=3.1->textblob) (8.1.3)\n",
      "Requirement already satisfied: joblib in c:\\users\\saida\\appdata\\local\\programs\\python\\python310\\lib\\site-packages (from nltk>=3.1->textblob) (1.1.0)\n",
      "Requirement already satisfied: regex>=2021.8.3 in c:\\users\\saida\\appdata\\local\\programs\\python\\python310\\lib\\site-packages (from nltk>=3.1->textblob) (2022.9.13)\n",
      "Requirement already satisfied: colorama in c:\\users\\saida\\appdata\\local\\programs\\python\\python310\\lib\\site-packages (from click->nltk>=3.1->textblob) (0.4.4)\n"
     ]
    },
    {
     "name": "stderr",
     "output_type": "stream",
     "text": [
      "WARNING: You are using pip version 22.0.4; however, version 22.3.1 is available.\n",
      "You should consider upgrading via the 'C:\\Users\\saida\\AppData\\Local\\Programs\\Python\\Python310\\python.exe -m pip install --upgrade pip' command.\n"
     ]
    },
    {
     "name": "stdout",
     "output_type": "stream",
     "text": [
      "Requirement already satisfied: wordcloud in c:\\users\\saida\\appdata\\local\\programs\\python\\python310\\lib\\site-packages (1.8.2.2)\n",
      "Requirement already satisfied: numpy>=1.6.1 in c:\\users\\saida\\appdata\\local\\programs\\python\\python310\\lib\\site-packages (from wordcloud) (1.22.3)\n",
      "Requirement already satisfied: pillow in c:\\users\\saida\\appdata\\local\\programs\\python\\python310\\lib\\site-packages (from wordcloud) (9.2.0)\n",
      "Requirement already satisfied: matplotlib in c:\\users\\saida\\appdata\\local\\programs\\python\\python310\\lib\\site-packages (from wordcloud) (3.5.3)\n",
      "Requirement already satisfied: packaging>=20.0 in c:\\users\\saida\\appdata\\local\\programs\\python\\python310\\lib\\site-packages (from matplotlib->wordcloud) (21.3)\n",
      "Requirement already satisfied: python-dateutil>=2.7 in c:\\users\\saida\\appdata\\local\\programs\\python\\python310\\lib\\site-packages (from matplotlib->wordcloud) (2.8.2)\n",
      "Requirement already satisfied: pyparsing>=2.2.1 in c:\\users\\saida\\appdata\\local\\programs\\python\\python310\\lib\\site-packages (from matplotlib->wordcloud) (3.0.8)\n",
      "Requirement already satisfied: fonttools>=4.22.0 in c:\\users\\saida\\appdata\\local\\programs\\python\\python310\\lib\\site-packages (from matplotlib->wordcloud) (4.37.1)\n",
      "Requirement already satisfied: cycler>=0.10 in c:\\users\\saida\\appdata\\local\\programs\\python\\python310\\lib\\site-packages (from matplotlib->wordcloud) (0.11.0)\n",
      "Requirement already satisfied: kiwisolver>=1.0.1 in c:\\users\\saida\\appdata\\local\\programs\\python\\python310\\lib\\site-packages (from matplotlib->wordcloud) (1.4.4)\n",
      "Requirement already satisfied: six>=1.5 in c:\\users\\saida\\appdata\\local\\programs\\python\\python310\\lib\\site-packages (from python-dateutil>=2.7->matplotlib->wordcloud) (1.16.0)\n"
     ]
    },
    {
     "name": "stderr",
     "output_type": "stream",
     "text": [
      "WARNING: You are using pip version 22.0.4; however, version 22.3.1 is available.\n",
      "You should consider upgrading via the 'C:\\Users\\saida\\AppData\\Local\\Programs\\Python\\Python310\\python.exe -m pip install --upgrade pip' command.\n"
     ]
    },
    {
     "name": "stdout",
     "output_type": "stream",
     "text": [
      "Requirement already satisfied: nltk in c:\\users\\saida\\appdata\\local\\programs\\python\\python310\\lib\\site-packages (3.7)\n",
      "Requirement already satisfied: tqdm in c:\\users\\saida\\appdata\\local\\programs\\python\\python310\\lib\\site-packages (from nltk) (4.64.1)\n",
      "Requirement already satisfied: click in c:\\users\\saida\\appdata\\local\\programs\\python\\python310\\lib\\site-packages (from nltk) (8.1.3)\n",
      "Requirement already satisfied: joblib in c:\\users\\saida\\appdata\\local\\programs\\python\\python310\\lib\\site-packages (from nltk) (1.1.0)\n",
      "Requirement already satisfied: regex>=2021.8.3 in c:\\users\\saida\\appdata\\local\\programs\\python\\python310\\lib\\site-packages (from nltk) (2022.9.13)\n",
      "Requirement already satisfied: colorama in c:\\users\\saida\\appdata\\local\\programs\\python\\python310\\lib\\site-packages (from click->nltk) (0.4.4)\n"
     ]
    },
    {
     "name": "stderr",
     "output_type": "stream",
     "text": [
      "WARNING: You are using pip version 22.0.4; however, version 22.3.1 is available.\n",
      "You should consider upgrading via the 'C:\\Users\\saida\\AppData\\Local\\Programs\\Python\\Python310\\python.exe -m pip install --upgrade pip' command.\n"
     ]
    }
   ],
   "source": [
    "!pip install tweepy\n",
    "!pip install textblob\n",
    "!pip install wordcloud\n",
    "!pip install nltk"
   ]
  },
  {
   "cell_type": "code",
   "execution_count": 3,
   "id": "VYAt_9QhsZaE",
   "metadata": {
    "colab": {
     "base_uri": "https://localhost:8080/"
    },
    "id": "VYAt_9QhsZaE",
    "outputId": "449d5484-2111-4c1d-bc2c-2af6def0c90b"
   },
   "outputs": [
    {
     "name": "stdout",
     "output_type": "stream",
     "text": [
      "Requirement already satisfied: scikit-learn-intelex in c:\\users\\saida\\appdata\\local\\programs\\python\\python310\\lib\\site-packages (2021.6.3)\n",
      "Requirement already satisfied: scikit-learn>=0.22 in c:\\users\\saida\\appdata\\local\\programs\\python\\python310\\lib\\site-packages (from scikit-learn-intelex) (1.0.2)\n",
      "Requirement already satisfied: daal4py==2021.6.3 in c:\\users\\saida\\appdata\\local\\programs\\python\\python310\\lib\\site-packages (from scikit-learn-intelex) (2021.6.3)\n",
      "Requirement already satisfied: daal==2021.6.0 in c:\\users\\saida\\appdata\\local\\programs\\python\\python310\\lib\\site-packages (from daal4py==2021.6.3->scikit-learn-intelex) (2021.6.0)\n",
      "Requirement already satisfied: numpy>=1.15 in c:\\users\\saida\\appdata\\local\\programs\\python\\python310\\lib\\site-packages (from daal4py==2021.6.3->scikit-learn-intelex) (1.22.3)\n",
      "Requirement already satisfied: tbb==2021.* in c:\\users\\saida\\appdata\\local\\programs\\python\\python310\\lib\\site-packages (from daal==2021.6.0->daal4py==2021.6.3->scikit-learn-intelex) (2021.7.0)\n",
      "Requirement already satisfied: joblib>=0.11 in c:\\users\\saida\\appdata\\local\\programs\\python\\python310\\lib\\site-packages (from scikit-learn>=0.22->scikit-learn-intelex) (1.1.0)\n",
      "Requirement already satisfied: threadpoolctl>=2.0.0 in c:\\users\\saida\\appdata\\local\\programs\\python\\python310\\lib\\site-packages (from scikit-learn>=0.22->scikit-learn-intelex) (3.1.0)\n",
      "Requirement already satisfied: scipy>=1.1.0 in c:\\users\\saida\\appdata\\local\\programs\\python\\python310\\lib\\site-packages (from scikit-learn>=0.22->scikit-learn-intelex) (1.8.0)\n"
     ]
    },
    {
     "name": "stderr",
     "output_type": "stream",
     "text": [
      "WARNING: You are using pip version 22.0.4; however, version 22.3.1 is available.\n",
      "You should consider upgrading via the 'C:\\Users\\saida\\AppData\\Local\\Programs\\Python\\Python310\\python.exe -m pip install --upgrade pip' command.\n",
      "Intel(R) Extension for Scikit-learn* enabled (https://github.com/intel/scikit-learn-intelex)\n",
      "[nltk_data] Downloading package stopwords to\n",
      "[nltk_data]     C:\\Users\\saida\\AppData\\Roaming\\nltk_data...\n",
      "[nltk_data]   Package stopwords is already up-to-date!\n",
      "[nltk_data] Downloading package punkt to\n",
      "[nltk_data]     C:\\Users\\saida\\AppData\\Roaming\\nltk_data...\n",
      "[nltk_data]   Package punkt is already up-to-date!\n",
      "[nltk_data] Downloading package wordnet to\n",
      "[nltk_data]     C:\\Users\\saida\\AppData\\Roaming\\nltk_data...\n",
      "[nltk_data]   Package wordnet is already up-to-date!\n",
      "[nltk_data] Downloading package omw-1.4 to\n",
      "[nltk_data]     C:\\Users\\saida\\AppData\\Roaming\\nltk_data...\n",
      "[nltk_data]   Package omw-1.4 is already up-to-date!\n"
     ]
    }
   ],
   "source": [
    "\n",
    "! python -m pip install scikit-learn-intelex\n",
    "from sklearnex import patch_sklearn\n",
    "patch_sklearn()\n",
    "\n",
    "\n",
    "\n",
    "import tweepy\n",
    "import numpy as np\n",
    "import pandas as pd\n",
    "import os\n",
    "import re\n",
    "import time\n",
    "import matplotlib.pyplot as plt\n",
    "from textblob import TextBlob\n",
    "from sklearn.svm import SVC\n",
    "from wordcloud import WordCloud\n",
    "from nltk.tokenize import word_tokenize\n",
    "from nltk.corpus import stopwords\n",
    "from nltk.stem import WordNetLemmatizer\n",
    "import nltk\n",
    "nltk.download('stopwords')\n",
    "nltk.download('punkt')\n",
    "nltk.download('wordnet')\n",
    "nltk.download('omw-1.4')\n",
    "plt.style.use('fivethirtyeight')"
   ]
  },
  {
   "cell_type": "code",
   "execution_count": 4,
   "id": "NcSHR3PRy9Ut",
   "metadata": {
    "colab": {
     "base_uri": "https://localhost:8080/"
    },
    "id": "NcSHR3PRy9Ut",
    "outputId": "14aa82b7-35ae-4758-eef0-6a769e3354c6"
   },
   "outputs": [],
   "source": [
    "# Mount Google Drive\n",
    "# from google.colab import drive\n",
    "# drive.mount('/content/drive')"
   ]
  },
  {
   "cell_type": "code",
   "execution_count": 5,
   "id": "QL6Ou_98zEzK",
   "metadata": {
    "id": "QL6Ou_98zEzK"
   },
   "outputs": [],
   "source": [
    "\n",
    "file = '/content/drive/MyDrive/tweet_data.csv'"
   ]
  },
  {
   "cell_type": "code",
   "execution_count": 6,
   "id": "5f56795c-38ec-4d2a-9bce-49929a9796dc",
   "metadata": {
    "id": "5f56795c-38ec-4d2a-9bce-49929a9796dc"
   },
   "outputs": [],
   "source": [
    "colnames = ['target', 'id', 'date','flag','user','text']"
   ]
  },
  {
   "cell_type": "code",
   "execution_count": 7,
   "id": "a49730f9-b969-4122-b3b9-939b90397a96",
   "metadata": {
    "id": "a49730f9-b969-4122-b3b9-939b90397a96"
   },
   "outputs": [],
   "source": [
    "# originalDataDF = pd.read_csv(file,names=colnames,delimiter=',',engine='python',nrows=None,encoding='latin-1',header=None)\n",
    "\n",
    "originalDataDF = pd.read_csv('tweet_data.csv', names=colnames, delimiter=',' ,engine='python', nrows=None, encoding='latin-1', header=None)"
   ]
  },
  {
   "cell_type": "code",
   "execution_count": 8,
   "id": "4f55b5e7-c313-4e14-9590-2aad7086121b",
   "metadata": {
    "colab": {
     "base_uri": "https://localhost:8080/",
     "height": 424
    },
    "id": "4f55b5e7-c313-4e14-9590-2aad7086121b",
    "outputId": "60c4a2f0-af51-4a7b-d8e6-f7118a70ecf1"
   },
   "outputs": [
    {
     "data": {
      "text/html": [
       "<div>\n",
       "<style scoped>\n",
       "    .dataframe tbody tr th:only-of-type {\n",
       "        vertical-align: middle;\n",
       "    }\n",
       "\n",
       "    .dataframe tbody tr th {\n",
       "        vertical-align: top;\n",
       "    }\n",
       "\n",
       "    .dataframe thead th {\n",
       "        text-align: right;\n",
       "    }\n",
       "</style>\n",
       "<table border=\"1\" class=\"dataframe\">\n",
       "  <thead>\n",
       "    <tr style=\"text-align: right;\">\n",
       "      <th></th>\n",
       "      <th>target</th>\n",
       "      <th>id</th>\n",
       "      <th>date</th>\n",
       "      <th>flag</th>\n",
       "      <th>user</th>\n",
       "      <th>text</th>\n",
       "    </tr>\n",
       "  </thead>\n",
       "  <tbody>\n",
       "    <tr>\n",
       "      <th>0</th>\n",
       "      <td>0</td>\n",
       "      <td>1467810369</td>\n",
       "      <td>Mon Apr 06 22:19:45 PDT 2009</td>\n",
       "      <td>NO_QUERY</td>\n",
       "      <td>_TheSpecialOne_</td>\n",
       "      <td>@switchfoot http://twitpic.com/2y1zl - Awww, t...</td>\n",
       "    </tr>\n",
       "    <tr>\n",
       "      <th>1</th>\n",
       "      <td>0</td>\n",
       "      <td>1467810672</td>\n",
       "      <td>Mon Apr 06 22:19:49 PDT 2009</td>\n",
       "      <td>NO_QUERY</td>\n",
       "      <td>scotthamilton</td>\n",
       "      <td>is upset that he can't update his Facebook by ...</td>\n",
       "    </tr>\n",
       "    <tr>\n",
       "      <th>2</th>\n",
       "      <td>0</td>\n",
       "      <td>1467810917</td>\n",
       "      <td>Mon Apr 06 22:19:53 PDT 2009</td>\n",
       "      <td>NO_QUERY</td>\n",
       "      <td>mattycus</td>\n",
       "      <td>@Kenichan I dived many times for the ball. Man...</td>\n",
       "    </tr>\n",
       "    <tr>\n",
       "      <th>3</th>\n",
       "      <td>0</td>\n",
       "      <td>1467811184</td>\n",
       "      <td>Mon Apr 06 22:19:57 PDT 2009</td>\n",
       "      <td>NO_QUERY</td>\n",
       "      <td>ElleCTF</td>\n",
       "      <td>my whole body feels itchy and like its on fire</td>\n",
       "    </tr>\n",
       "    <tr>\n",
       "      <th>4</th>\n",
       "      <td>0</td>\n",
       "      <td>1467811193</td>\n",
       "      <td>Mon Apr 06 22:19:57 PDT 2009</td>\n",
       "      <td>NO_QUERY</td>\n",
       "      <td>Karoli</td>\n",
       "      <td>@nationwideclass no, it's not behaving at all....</td>\n",
       "    </tr>\n",
       "  </tbody>\n",
       "</table>\n",
       "</div>"
      ],
      "text/plain": [
       "   target          id                          date      flag  \\\n",
       "0       0  1467810369  Mon Apr 06 22:19:45 PDT 2009  NO_QUERY   \n",
       "1       0  1467810672  Mon Apr 06 22:19:49 PDT 2009  NO_QUERY   \n",
       "2       0  1467810917  Mon Apr 06 22:19:53 PDT 2009  NO_QUERY   \n",
       "3       0  1467811184  Mon Apr 06 22:19:57 PDT 2009  NO_QUERY   \n",
       "4       0  1467811193  Mon Apr 06 22:19:57 PDT 2009  NO_QUERY   \n",
       "\n",
       "              user                                               text  \n",
       "0  _TheSpecialOne_  @switchfoot http://twitpic.com/2y1zl - Awww, t...  \n",
       "1    scotthamilton  is upset that he can't update his Facebook by ...  \n",
       "2         mattycus  @Kenichan I dived many times for the ball. Man...  \n",
       "3          ElleCTF    my whole body feels itchy and like its on fire   \n",
       "4           Karoli  @nationwideclass no, it's not behaving at all....  "
      ]
     },
     "execution_count": 8,
     "metadata": {},
     "output_type": "execute_result"
    }
   ],
   "source": [
    "originalDataDF.head()"
   ]
  },
  {
   "cell_type": "code",
   "execution_count": null,
   "id": "_AtqggB6du83",
   "metadata": {
    "id": "_AtqggB6du83"
   },
   "outputs": [],
   "source": []
  },
  {
   "cell_type": "code",
   "execution_count": 9,
   "id": "s6VoTE8hePIa",
   "metadata": {
    "id": "s6VoTE8hePIa"
   },
   "outputs": [],
   "source": [
    "# def datasplitfortraining(l1=[],l2=[],m=0):\n",
    "#     k = 0\n",
    "#     for i in range(len(requiredTweetData)):\n",
    "#         if(k==5000):\n",
    "#             break\n",
    "#         if requiredTweetData['target'][i] == m:\n",
    "#             l1.append(requiredTweetData['target'][i])\n",
    "#             l2.append(requiredTweetData['text'][i])\n",
    "#             k+=1\n",
    "#     newmodifieddf = pd.DataFrame({'target':l1,'text':l2})\n",
    "#     return newmodifieddf\n",
    "\n",
    "\n",
    "\n",
    "# d1 = datasplitfortraining(m=4)\n",
    "# d2 = datasplitfortraining(m=2)\n",
    "# d3 = datasplitfortraining(m=0)"
   ]
  },
  {
   "cell_type": "code",
   "execution_count": 10,
   "id": "qzJ4JUIEsj8F",
   "metadata": {
    "id": "qzJ4JUIEsj8F"
   },
   "outputs": [],
   "source": [
    "def handling_emojis(text):\n",
    "    # Smile -- :), : ), :-), (:, ( :, (-:, :')\n",
    "    text = re.sub(r'(:\\s?\\)|:-\\)|\\(\\s?:|\\(-:|:\\'\\))', ' EMO_POS ', text)\n",
    "    # Laugh -- :D, : D, :-D, xD, x-D, XD, X-D\n",
    "    text = re.sub(r'(:\\s?D|:-D|x-?D|X-?D)', ' EMO_POS ', text)\n",
    "    # Love -- <3, :*\n",
    "    text = re.sub(r'(<3|:\\*)', ' EMO_POS ', text)\n",
    "    # Wink -- ;-), ;), ;-D, ;D, (;,  (-;\n",
    "    text = re.sub(r'(;-?\\)|;-?D|\\(-?;)', ' EMO_POS ', text)\n",
    "    # Sad -- :-(, : (, :(, ):, )-:\n",
    "    text = re.sub(r'(:\\s?\\(|:-\\(|\\)\\s?:|\\)-:)', ' EMO_NEG ', text)\n",
    "    # Cry -- :,(, :'(, :\"(\n",
    "    text = re.sub(r'(:,\\(|:\\'\\(|:\"\\()', ' EMO_NEG ', text)\n",
    "    \n",
    "    return text"
   ]
  },
  {
   "cell_type": "code",
   "execution_count": 11,
   "id": "ca3ANqtIskbI",
   "metadata": {
    "id": "ca3ANqtIskbI"
   },
   "outputs": [],
   "source": [
    "# cleaning the text\n",
    "\n",
    "# removing tagged username '@'\n",
    "def cleaningText(text):\n",
    "    text = text.strip('\\'\"?!,.():;') # removing punctuation\n",
    "    text = re.sub(r'(.)\\1+', r'\\1\\1', text) # convert more than 2 letter repetitions to 2 letter #fooood -> food\n",
    "    text = re.sub(r'(-|\\')','',text) # removing additional -& '\n",
    "    text = re.sub(r'@[A-Za-z0-9]+','',text) #removing @usernames\n",
    "    text = re.sub(r'#','',text) #removing '#' symbols\n",
    "    text = re.sub(r'RT[\\s]+','',text) #removes RT(Re-Tweet) string \n",
    "    text = re.sub(r'https?:\\/\\/\\S+','',text) #removing the hyperlink\n",
    "    text = re.sub(r'((www\\.[\\S]+)|(https?://[\\S]+))', '', text) #removing urls\n",
    "    # Replace 2+ dots with space\n",
    "    text = re.sub(r'\\.{2,}', ' ', text)\n",
    "    # Strip space, \" and ' from tweet\n",
    "    text = text.strip(' \"\\'')\n",
    "    # Replace emojis with either EMO_POS or EMO_NEG\n",
    "    text = handling_emojis(text)\n",
    "    # Replace multiple spaces with a single space\n",
    "    text = re.sub(r'\\s+', ' ', text)\n",
    "    text = text.lower() #make the text to lowercase\n",
    "    return text\n"
   ]
  },
  {
   "cell_type": "code",
   "execution_count": 12,
   "id": "zxuHYnxntDsm",
   "metadata": {
    "colab": {
     "base_uri": "https://localhost:8080/",
     "height": 36
    },
    "id": "zxuHYnxntDsm",
    "outputId": "280968fe-b0a4-49a7-d230-b8d4580d0c3d"
   },
   "outputs": [
    {
     "data": {
      "text/plain": [
       "'aww, thats a bummer. you shoulda got david carr of third day to do it. emo_pos '"
      ]
     },
     "execution_count": 12,
     "metadata": {},
     "output_type": "execute_result"
    }
   ],
   "source": [
    "originalDataDF['text'] = originalDataDF['text'].apply(cleaningText)\n",
    "originalDataDF['text'][0]"
   ]
  },
  {
   "cell_type": "code",
   "execution_count": 13,
   "id": "qpKnGSsrskeb",
   "metadata": {
    "id": "qpKnGSsrskeb"
   },
   "outputs": [],
   "source": [
    "contractionWords = {\n",
    "\"aren’t\":\"are not\",\"can’t\":\"can not\",\"couldn’t\":\"could not \",\"didn’t\":\"did not\",\"doesn’t\":\"does not\",\"don’t\":\"do not\",\"hadn’t\":\"had not\",\"hasn’t\":\"has not \",\"haven’t\":\"have not\",\n",
    "\"I’m\":\"I am\",\"I’ve\":\"I have\",\"isn’t\":\"is not\",\"let’s\":\"let us\",\"mightn’t\":\"might not\",\"mustn’t\":\"must not\",\"shan’t\":\"shall not\",\"shouldn’t\":\"should not\",\"that’s\":\" that is\",\"he’ll\":\" he will\",\n",
    "\"I’ll\":\"I will\",\"she’ll\":\"she will\",\"she’s\":\"she is\",\"there’s\":\"there is\",\"they’ll\":\" they will\",\"they’re\":\"they are\",\"they’ve\":\"they have\",\"we’re\":\"we are\",\"we’ve\":\"we have\",\"weren’t\":\"were not\",\n",
    "\"what’ll\":\"what will\",\"what’re\":\"what are\",\"what’ve\":\"what have\",\"where’s\":\"where is\",\"who’d\":\"who would\",\"who’ll\":\"who will\",\"who’re\":\"who are\",\"who’s\":\"who is\",\"who’ve\":\"who have\",\"won’t\":\"will not\",\n",
    "\"wouldn’t\":\"would not\",\"you’d\":\"you would\",\"you’re\":\"you are\",\"you’ve\":\"you have\",\"it’s\":\"it is\",\"wasn't\":\"was not\"\n",
    "}"
   ]
  },
  {
   "cell_type": "code",
   "execution_count": 14,
   "id": "kYmiz2l7skh5",
   "metadata": {
    "id": "kYmiz2l7skh5"
   },
   "outputs": [],
   "source": [
    "# negation handling\n",
    "def negationHandling(text):\n",
    "    words = text.split()\n",
    "    temp = [contractionWords[word] if word in contractionWords else word for word in words]\n",
    "    temp = \" \".join(temp)\n",
    "    return temp\n",
    "originalDataDF['text'] = originalDataDF['text'].apply(negationHandling)"
   ]
  },
  {
   "cell_type": "code",
   "execution_count": 15,
   "id": "HgJc2vp35DIG",
   "metadata": {
    "colab": {
     "base_uri": "https://localhost:8080/"
    },
    "id": "HgJc2vp35DIG",
    "outputId": "c22da16b-ef60-4414-8394-8650dde68e45"
   },
   "outputs": [
    {
     "data": {
      "text/plain": [
       "['aww',\n",
       " ',',\n",
       " 'thats',\n",
       " 'a',\n",
       " 'bummer',\n",
       " '.',\n",
       " 'you',\n",
       " 'shoulda',\n",
       " 'got',\n",
       " 'david',\n",
       " 'carr',\n",
       " 'of',\n",
       " 'third',\n",
       " 'day',\n",
       " 'to',\n",
       " 'do',\n",
       " 'it',\n",
       " '.',\n",
       " 'emo_pos']"
      ]
     },
     "execution_count": 15,
     "metadata": {},
     "output_type": "execute_result"
    }
   ],
   "source": [
    "word_set = []\n",
    "def wordTokenize(text):\n",
    "    tokens = word_tokenize(text)\n",
    "    return tokens\n",
    "originalDataDF['text'] = originalDataDF['text'].apply(wordTokenize)\n",
    "originalDataDF['text'][0]"
   ]
  },
  {
   "cell_type": "code",
   "execution_count": 16,
   "id": "V4oTn9rms3wG",
   "metadata": {
    "colab": {
     "base_uri": "https://localhost:8080/"
    },
    "id": "V4oTn9rms3wG",
    "outputId": "1160e68e-fcf5-4ffb-c92f-5c4779e6464e"
   },
   "outputs": [
    {
     "data": {
      "text/plain": [
       "['aww',\n",
       " ',',\n",
       " 'thats',\n",
       " 'bummer',\n",
       " '.',\n",
       " 'shoulda',\n",
       " 'got',\n",
       " 'david',\n",
       " 'carr',\n",
       " 'third',\n",
       " 'day',\n",
       " '.',\n",
       " 'emo_pos']"
      ]
     },
     "execution_count": 16,
     "metadata": {},
     "output_type": "execute_result"
    }
   ],
   "source": [
    "stop_words = stopwords.words('english')\n",
    "def removeStopWords(tokens):\n",
    "    temp = [word for word in tokens if word not in stop_words]\n",
    "    return temp\n",
    "originalDataDF['text'] = originalDataDF['text'].apply(removeStopWords)\n",
    "originalDataDF['text'][0]"
   ]
  },
  {
   "cell_type": "code",
   "execution_count": 17,
   "id": "80px5583s3y0",
   "metadata": {
    "colab": {
     "base_uri": "https://localhost:8080/"
    },
    "id": "80px5583s3y0",
    "outputId": "72febdd9-4992-4c7a-f165-95e1ee69995b"
   },
   "outputs": [
    {
     "data": {
      "text/plain": [
       "['aww', 'thats', 'bummer', 'shoulda', 'got', 'david', 'carr', 'third', 'day']"
      ]
     },
     "execution_count": 17,
     "metadata": {},
     "output_type": "execute_result"
    }
   ],
   "source": [
    "def removeUnnecessaryChars(tokens):\n",
    "    temp = [word for word in tokens if word.isalpha()]\n",
    "    return temp\n",
    "originalDataDF['text'] = originalDataDF['text'].apply(removeUnnecessaryChars)\n",
    "originalDataDF['text'][0]"
   ]
  },
  {
   "cell_type": "code",
   "execution_count": 18,
   "id": "8OHoKZNCs31n",
   "metadata": {
    "id": "8OHoKZNCs31n"
   },
   "outputs": [],
   "source": [
    "lemma = WordNetLemmatizer()\n",
    "def lemmatizeTweets(wordList):\n",
    "    temp = []\n",
    "    for word in wordList:\n",
    "        _word = lemma.lemmatize(word)\n",
    "        temp.append(_word)\n",
    "    return ' '.join(temp)\n",
    "originalDataDF['text'] = originalDataDF['text'].apply(lemmatizeTweets)\n"
   ]
  },
  {
   "cell_type": "code",
   "execution_count": 19,
   "id": "nh5cmTC1s35M",
   "metadata": {
    "id": "nh5cmTC1s35M"
   },
   "outputs": [
    {
     "data": {
      "text/plain": [
       "'aww thats bummer shoulda got david carr third day'"
      ]
     },
     "execution_count": 19,
     "metadata": {},
     "output_type": "execute_result"
    }
   ],
   "source": [
    "originalDataDF['text'][0]"
   ]
  },
  {
   "cell_type": "code",
   "execution_count": null,
   "id": "65vV2stRs9-n",
   "metadata": {
    "id": "65vV2stRs9-n"
   },
   "outputs": [],
   "source": []
  },
  {
   "cell_type": "code",
   "execution_count": null,
   "id": "DTp8jwjOs-BC",
   "metadata": {
    "id": "DTp8jwjOs-BC"
   },
   "outputs": [],
   "source": []
  },
  {
   "cell_type": "code",
   "execution_count": 20,
   "id": "z0VHBAgds-Ec",
   "metadata": {
    "id": "z0VHBAgds-Ec"
   },
   "outputs": [],
   "source": [
    "def datasplitfortraining(l1=[],l2=[],m=0):\n",
    "    k = 0\n",
    "    for i in range(len(originalDataDF)):\n",
    "        if(k==50000):\n",
    "            break\n",
    "        if originalDataDF['target'][i] == m:\n",
    "            l1.append(originalDataDF['target'][i])\n",
    "            l2.append(originalDataDF['text'][i])\n",
    "            k+=1\n",
    "    newmodifieddf = pd.DataFrame({'target':l1,'text':l2})\n",
    "    return newmodifieddf\n",
    "\n",
    "\n",
    "\n",
    "d1 = datasplitfortraining(m=4)\n",
    "d2 = datasplitfortraining(m=2)\n",
    "d3 = datasplitfortraining(m=0)"
   ]
  },
  {
   "cell_type": "code",
   "execution_count": null,
   "id": "NAGr0G6heWiP",
   "metadata": {
    "id": "NAGr0G6heWiP"
   },
   "outputs": [],
   "source": []
  },
  {
   "cell_type": "code",
   "execution_count": 21,
   "id": "0732484f-7602-40a9-a6ff-d1627a54f468",
   "metadata": {
    "colab": {
     "base_uri": "https://localhost:8080/",
     "height": 424
    },
    "id": "0732484f-7602-40a9-a6ff-d1627a54f468",
    "outputId": "a042d2d7-1d2f-4509-dffb-06bd060b1c64"
   },
   "outputs": [
    {
     "data": {
      "text/html": [
       "<div>\n",
       "<style scoped>\n",
       "    .dataframe tbody tr th:only-of-type {\n",
       "        vertical-align: middle;\n",
       "    }\n",
       "\n",
       "    .dataframe tbody tr th {\n",
       "        vertical-align: top;\n",
       "    }\n",
       "\n",
       "    .dataframe thead th {\n",
       "        text-align: right;\n",
       "    }\n",
       "</style>\n",
       "<table border=\"1\" class=\"dataframe\">\n",
       "  <thead>\n",
       "    <tr style=\"text-align: right;\">\n",
       "      <th></th>\n",
       "      <th>target</th>\n",
       "      <th>text</th>\n",
       "    </tr>\n",
       "  </thead>\n",
       "  <tbody>\n",
       "    <tr>\n",
       "      <th>0</th>\n",
       "      <td>4</td>\n",
       "      <td>love u guy r best</td>\n",
       "    </tr>\n",
       "    <tr>\n",
       "      <th>1</th>\n",
       "      <td>4</td>\n",
       "      <td>im meeting one besties tonight cant wait girl ...</td>\n",
       "    </tr>\n",
       "    <tr>\n",
       "      <th>2</th>\n",
       "      <td>4</td>\n",
       "      <td>thanks twitter add sunisa got meet hin show dc...</td>\n",
       "    </tr>\n",
       "    <tr>\n",
       "      <th>3</th>\n",
       "      <td>4</td>\n",
       "      <td>sick really cheap hurt much eat real food plus...</td>\n",
       "    </tr>\n",
       "    <tr>\n",
       "      <th>4</th>\n",
       "      <td>4</td>\n",
       "      <td>effect everyone</td>\n",
       "    </tr>\n",
       "    <tr>\n",
       "      <th>...</th>\n",
       "      <td>...</td>\n",
       "      <td>...</td>\n",
       "    </tr>\n",
       "    <tr>\n",
       "      <th>99995</th>\n",
       "      <td>0</td>\n",
       "      <td>insomnia prob slept hr woke nd couldnt go back...</td>\n",
       "    </tr>\n",
       "    <tr>\n",
       "      <th>99996</th>\n",
       "      <td>0</td>\n",
       "      <td>mintues late meeting starting howd know going ...</td>\n",
       "    </tr>\n",
       "    <tr>\n",
       "      <th>99997</th>\n",
       "      <td>0</td>\n",
       "      <td>super excited tweeting event happening way fol...</td>\n",
       "    </tr>\n",
       "    <tr>\n",
       "      <th>99998</th>\n",
       "      <td>0</td>\n",
       "      <td>want another day much sht today got quot quot ...</td>\n",
       "    </tr>\n",
       "    <tr>\n",
       "      <th>99999</th>\n",
       "      <td>0</td>\n",
       "      <td>jacked umbrella cake</td>\n",
       "    </tr>\n",
       "  </tbody>\n",
       "</table>\n",
       "<p>100000 rows × 2 columns</p>\n",
       "</div>"
      ],
      "text/plain": [
       "       target                                               text\n",
       "0           4                                  love u guy r best\n",
       "1           4  im meeting one besties tonight cant wait girl ...\n",
       "2           4  thanks twitter add sunisa got meet hin show dc...\n",
       "3           4  sick really cheap hurt much eat real food plus...\n",
       "4           4                                    effect everyone\n",
       "...       ...                                                ...\n",
       "99995       0  insomnia prob slept hr woke nd couldnt go back...\n",
       "99996       0  mintues late meeting starting howd know going ...\n",
       "99997       0  super excited tweeting event happening way fol...\n",
       "99998       0  want another day much sht today got quot quot ...\n",
       "99999       0                               jacked umbrella cake\n",
       "\n",
       "[100000 rows x 2 columns]"
      ]
     },
     "execution_count": 21,
     "metadata": {},
     "output_type": "execute_result"
    }
   ],
   "source": [
    "# temp_pos = d3.loc[d3['target'] == 0]\n",
    "# temp_neg = d3.loc[d3['target'] == 4]\n",
    "d3"
   ]
  },
  {
   "cell_type": "code",
   "execution_count": 22,
   "id": "9727113e-5fe6-425b-aa9c-6064c235ab0d",
   "metadata": {
    "id": "9727113e-5fe6-425b-aa9c-6064c235ab0d"
   },
   "outputs": [],
   "source": [
    "from sklearn.feature_extraction.text import TfidfVectorizer"
   ]
  },
  {
   "cell_type": "code",
   "execution_count": 23,
   "id": "4329b030-97ce-49ad-b36b-1068f45214af",
   "metadata": {
    "id": "4329b030-97ce-49ad-b36b-1068f45214af"
   },
   "outputs": [],
   "source": [
    "vectorizer = TfidfVectorizer(min_df = 5,max_df=0.8,sublinear_tf = True,use_idf = True)"
   ]
  },
  {
   "cell_type": "code",
   "execution_count": 24,
   "id": "0bf95ce7-b2d4-4c48-ac20-959564f056b5",
   "metadata": {
    "id": "0bf95ce7-b2d4-4c48-ac20-959564f056b5"
   },
   "outputs": [],
   "source": [
    "train_vectors = vectorizer.fit_transform(d3['text'])"
   ]
  },
  {
   "cell_type": "code",
   "execution_count": 25,
   "id": "O4MnALEpYFtG",
   "metadata": {
    "colab": {
     "base_uri": "https://localhost:8080/"
    },
    "id": "O4MnALEpYFtG",
    "outputId": "2a050481-232e-441b-ea89-aabd6205ed7f"
   },
   "outputs": [
    {
     "name": "stdout",
     "output_type": "stream",
     "text": [
      "[[0. 0. 0. ... 0. 0. 0.]\n",
      " [0. 0. 0. ... 0. 0. 0.]\n",
      " [0. 0. 0. ... 0. 0. 0.]\n",
      " ...\n",
      " [0. 0. 0. ... 0. 0. 0.]\n",
      " [0. 0. 0. ... 0. 0. 0.]\n",
      " [0. 0. 0. ... 0. 0. 0.]]\n"
     ]
    }
   ],
   "source": [
    "print(train_vectors.toarray())"
   ]
  },
  {
   "cell_type": "code",
   "execution_count": 26,
   "id": "b130d072-434c-41c7-b750-eba0b8c8e51c",
   "metadata": {},
   "outputs": [],
   "source": [
    "X = train_vectors.toarray()\n",
    "y = np.where(d3['target'] == 0 , -1 , 1)"
   ]
  },
  {
   "cell_type": "code",
   "execution_count": 27,
   "id": "30b4092a-d7c1-4001-8898-ff5e982214e3",
   "metadata": {},
   "outputs": [],
   "source": [
    "from sklearn.model_selection import train_test_split\n",
    "\n",
    "X_train, X_test, y_train, y_test = train_test_split(X, y, test_size=0.2,stratify=y, random_state=42)"
   ]
  },
  {
   "cell_type": "code",
   "execution_count": 28,
   "id": "74126c21-30b9-4986-9ca3-9d5ba7834405",
   "metadata": {},
   "outputs": [
    {
     "data": {
      "text/plain": [
       "(80000, 9094)"
      ]
     },
     "execution_count": 28,
     "metadata": {},
     "output_type": "execute_result"
    }
   ],
   "source": [
    "X_train.shape"
   ]
  },
  {
   "cell_type": "code",
   "execution_count": 29,
   "id": "b8ddcca3-1178-4103-94a0-0d8fafe234aa",
   "metadata": {},
   "outputs": [
    {
     "data": {
      "text/plain": [
       "(80000,)"
      ]
     },
     "execution_count": 29,
     "metadata": {},
     "output_type": "execute_result"
    }
   ],
   "source": [
    "y_train.shape"
   ]
  },
  {
   "cell_type": "code",
   "execution_count": 30,
   "id": "85119c78-b384-46ce-a80c-4646ef870561",
   "metadata": {},
   "outputs": [],
   "source": [
    "import math\n",
    "from math import sqrt\n",
    "from math import exp\n",
    "from math import pi\n",
    "import numpy as np"
   ]
  },
  {
   "cell_type": "code",
   "execution_count": 56,
   "id": "683676b8-25d6-464f-878a-696684381446",
   "metadata": {},
   "outputs": [],
   "source": [
    "class Navie_Bayes:\n",
    "    \n",
    "      def __init__(self):\n",
    "          ## instantiating the class here\n",
    "          seperated_classes_training_data = dict()\n",
    "          pass\n",
    "    \n",
    "      def getInfo(self, seperated_classes_training_data):\n",
    "          ## this function gets information from the seperated dataset.\n",
    "          self.Classes = len(seperated_classes_training_data.keys()) \n",
    "          # Get the number of Class.\n",
    "          for i in range(self.Classes):\n",
    "            if len(seperated_classes_training_data[i]) != 0:\n",
    "                self.Features = len(seperated_classes_training_data[i][0])\n",
    "                break\n",
    "            self.eachClass = np.zero(self.Classes)\n",
    "            for i in range(self.Classes):\n",
    "                DataOfClass = len(seperated_classes_training_data[i])\n",
    "                self.eachClass[i] = DataOfClass\n",
    "                self.trainingData += DataOfClass\n",
    "    \n",
    "      def classes_seperate_subset(self, X, y):\n",
    "        ## we need to find the probability of the data by the class with which they belong to, so we need to seperate our training data by class.\n",
    "        ## so this function splits the dataset by class values, return dictonary\n",
    "        seperated_classes_training_data = {}\n",
    "        for i in range(len(X)):\n",
    "            class_value = y[i]\n",
    "            vector_values = X[i]\n",
    "            if class_value not in seperated_classes_training_data:\n",
    "                seperated_classes_training_data[class_value] = []\n",
    "                seperated_classes_training_data[class_value].append(vector_values)\n",
    "        return seperated_classes_training_data\n",
    "    \n",
    "      def info_statistics(self, X):\n",
    "        ## standard deviation and mean of features are calculated here.\n",
    "        for features in zip(*X):\n",
    "                  yield {\n",
    "                  'std' : np.std(feature),\n",
    "                  'mean' : np.mean(feature)\n",
    "              }\n",
    "    \n",
    "      def mean(numbers):\n",
    "          #calculates the mean where we later input the features vector\n",
    "          return sum(numbers) / float(len(numbers))\n",
    "    \n",
    "      def std(numbers):\n",
    "          #calculates the standard deviation where we later input the features vector\n",
    "          variance = sum([(x - mean(numbers) **2 for x in numbers]) / float(len(numbers) - 1)\n",
    "          return sqrt(variance)\n",
    "    \n",
    "      def fit(self, X, y):\n",
    "        ## trains the model which means we are telling to learn from the dataset. fits the model with training data and labels the data as input.\n",
    "        ## create a dictionary containing input data seperated by class label.\n",
    "          self.feature_summary = {}\n",
    "          for i in range(len(seperated_classes_training_data)):\n",
    "              features = X[i]\n",
    "              label = y[i]\n",
    "              if label not in self.feature_summary:\n",
    "                  self.feature_summary[label] = []\n",
    "              self.feature_summary[label].append(features)\n",
    "          seperated_classes = self.classes_seperate_subset(X, y)\n",
    "          self.class_summary = {}\n",
    "          for class_value, vector_values in seperated_classes.items():\n",
    "              self.class_summary[class_value] = {\n",
    "                 'prior_proba': len(vector_values)/len(X),\n",
    "                  'summary': [i for i in self.info_statistics(vector_values)],\n",
    "              }\n",
    "          return self.class_summary\n",
    "    \n",
    "      def calculate_probability(self, x, mean, std):\n",
    "          ## calculate conditional probability of a gaussian distribution\n",
    "          exponent_value = np.exp(-((x-mean)**2 / (2*std**2)))\n",
    "          return (exponent_value/(match.sqrt(2*math.pi)*std))\n",
    "    \n",
    "      def predict(self, X):\n",
    "          ## returns the class predictions for each row in X.\n",
    "          predictions = []\n",
    "          for x in X:\n",
    "              probabilities = {}\n",
    "              for class_name, target in self.class_summary.items():\n",
    "                  t1 = target['summary']\n",
    "                  val = 1\n",
    "                  for i in range(len(t1)):\n",
    "                      feature = x[i]\n",
    "                      mean = t1[i]['mean']\n",
    "                      std = t1[i]['std']\n",
    "                      val = val * self.calculate_probability(feature, mean, std)\n",
    "                  probabilities[class_name] = target['prior_proba'] * val\n",
    "\n",
    "              predictions.append(max(probabilities, key=probabilities.get)\n",
    "          return predictions\n",
    "\n"
   ]
  },
  {
   "cell_type": "code",
   "execution_count": 57,
   "id": "3d5f7deb-f580-47b3-b1d8-a5cf3e384369",
   "metadata": {},
   "outputs": [],
   "source": [
    "def accuracy(y_test, y_pred):\n",
    "        \"\"\"\n",
    "        Calculates model's accuracy.\n",
    "        \"\"\"\n",
    "\n",
    "        correct_values = 0\n",
    "\n",
    "        for i in range(len(y_pred)):\n",
    "            if y_test[i] == y_pred[i]:\n",
    "                correct_values += 1 \n",
    "        return (correct_values/len(y_test))"
   ]
  },
  {
   "cell_type": "code",
   "execution_count": 59,
   "id": "0f6745fb-20ba-46d2-b289-001911448931",
   "metadata": {},
   "outputs": [
    {
     "name": "stderr",
     "output_type": "stream",
     "text": [
      "C:\\Users\\saida\\AppData\\Local\\Temp\\ipykernel_3800\\1277149293.py:114: RuntimeWarning: invalid value encountered in double_scalars\n",
      "  exponent_value =   np.exp(-((x-mean)**2 / (2*std**2)))\n",
      "C:\\Users\\saida\\AppData\\Local\\Temp\\ipykernel_3800\\1277149293.py:114: RuntimeWarning: divide by zero encountered in double_scalars\n",
      "  exponent_value =   np.exp(-((x-mean)**2 / (2*std**2)))\n",
      "C:\\Users\\saida\\AppData\\Local\\Temp\\ipykernel_3800\\1277149293.py:115: RuntimeWarning: invalid value encountered in double_scalars\n",
      "  return (exponent_value / (math.sqrt(2 * math.pi) * std))\n"
     ]
    },
    {
     "name": "stdout",
     "output_type": "stream",
     "text": [
      "Naive Bayes Accuracy:  0.5\n"
     ]
    }
   ],
   "source": [
    "nb = Navie_Bayes()\n",
    "nb.fit(X_train, y_train)\n",
    "y_pred = nb.predict(X_test)\n",
    "\n",
    "print('Naive Bayes Accuracy: ', accuracy(y_test, y_pred))"
   ]
  },
  {
   "cell_type": "code",
   "execution_count": 66,
   "id": "1cbe09f7-1a19-44d5-8a17-355540662f97",
   "metadata": {},
   "outputs": [],
   "source": [
    "# Naive Bayes Classifier\n",
    "\n",
    "from sklearn.naive_bayes import MultinomialNB\n",
    "from sklearn.metrics import accuracy_score,f1_score,precision_score,recall_score\n",
    "# Naive Bayes Classifier\n",
    "\n",
    "\n",
    "model_naive = nb.fit(X_train, y_train) \n",
    "predicted_naive = model_naive.predict(X_test)"
   ]
  },
  {
   "cell_type": "code",
   "execution_count": 67,
   "id": "643afc2a-2511-4355-9137-ca0794c4e1a1",
   "metadata": {},
   "outputs": [
    {
     "data": {
      "image/png": "[encoded data removed]",
      "text/plain": [
       "<Figure size 600x600 with 1 Axes>"
      ]
     },
     "metadata": {},
     "output_type": "display_data"
    }
   ],
   "source": [
    "from sklearn.metrics import confusion_matrix\n",
    "#import seaborn as sns\n",
    "\n",
    "from mlxtend.plotting import plot_confusion_matrix\n",
    " \n",
    "mat = confusion_matrix(y_test, predicted_naive)\n",
    "\n",
    "fig, ax = plot_confusion_matrix(conf_mat=mat, figsize=(6, 6), cmap=plt.cm.Greens)\n",
    "plt.xlabel('Predictions', fontsize=18)\n",
    "plt.ylabel('Actuals', fontsize=18)\n",
    "plt.title('Confusion Matrix', fontsize=18)\n",
    "plt.show()"
   ]
  },
  {
   "cell_type": "code",
   "execution_count": 68,
   "id": "8270b2b3-f897-4228-a70d-64315a5eaca4",
   "metadata": {},
   "outputs": [],
   "source": [
    "FalsePositive = mat.sum(axis=0) - np.diag(mat)  \n",
    "FalseNegative = mat.sum(axis=1) - np.diag(mat)\n",
    "TruePositive = np.diag(mat)\n",
    "TrueNegative = mat.sum() - (FalsePositive + FalseNegative + TruePositive)\n",
    "\n",
    "FalsePositive = FalsePositive.astype(float)\n",
    "FalseNegative = FalseNegative.astype(float)\n",
    "TruePositive = TruePositive.astype(float)\n",
    "TrueNegative = TrueNegative.astype(float)\n"
   ]
  },
  {
   "cell_type": "code",
   "execution_count": 69,
   "id": "3115ec75-7129-4139-910d-cce4e5538901",
   "metadata": {},
   "outputs": [
    {
     "name": "stdout",
     "output_type": "stream",
     "text": [
      "Recall : [0.7649 0.7416]\n",
      "Specificity : [0.7416 0.7649]\n",
      "Precision : [0.74748363 0.75929149]\n"
     ]
    }
   ],
   "source": [
    "#  Recall, or True positive rate\n",
    "TPR = TruePositive/(TruePositive+FalseNegative)\n",
    "print('Recall :',TPR)\n",
    "# Specificity or True negative rate\n",
    "TNR = TrueNegative/(TrueNegative+FalsePositive) \n",
    "print('Specificity :',TNR)\n",
    "# Precision or Positive predictive value\n",
    "PPV = TruePositive/(TruePositive+FalsePositive)\n",
    "print('Precision :',PPV)\n",
    "# Negative Predictive value\n",
    "NPV = TrueNegative/(TrueNegative+FalseNegative)\n",
    "# Fall out or false positive rate\n",
    "FPR = FalsePositive/(FalsePositive+TrueNegative)\n",
    "# False negative rate\n",
    "FNR = FalseNegative/(TruePositive+FalseNegative)\n",
    "# False discovery rate\n",
    "FDR = FalsePositive/(TruePositive+FalsePositive)"
   ]
  },
  {
   "cell_type": "code",
   "execution_count": 71,
   "id": "18d365de-e9ce-41a3-bf36-830cd939172e",
   "metadata": {},
   "outputs": [
    {
     "name": "stdout",
     "output_type": "stream",
     "text": [
      "0.484\n"
     ]
    }
   ],
   "source": [
    "recall_score(y_test,y_pred)"
   ]
  },
  {
   "cell_type": "code",
   "execution_count": 74,
   "id": "03dc9149-d5d7-4ebf-86aa-ce0f583c57fc",
   "metadata": {},
   "outputs": [
    {
     "name": "stdout",
     "output_type": "stream",
     "text": [
      "0.531\n"
     ]
    }
   ],
   "source": [
    "f1_score(y_test,y_pred)"
   ]
  },
  {
   "cell_type": "code",
   "execution_count": 77,
   "id": "02c87844-c553-4700-adfc-ddaa9e3cae2e",
   "metadata": {},
   "outputs": [],
   "source": [
    "import nltk # needed for Naive-Bayes\n",
    "import numpy as np\n",
    "from sklearn.model_selection import KFold\n",
    "\n",
    "from sklearn.model_selection import StratifiedKFold"
   ]
  },
  {
   "cell_type": "code",
   "execution_count": 101,
   "id": "a85ab3b5-181f-43c3-aef9-72a2fb85e0a3",
   "metadata": {},
   "outputs": [
    {
     "name": "stdout",
     "output_type": "stream",
     "text": [
      "Fold:  1, Accuracy: 0.487\n",
      "\n",
      "\n",
      "Cross-Validation accuracy: 0.487 +/- 0.000\n",
      "Fold:  2, Accuracy: 0.489\n",
      "\n",
      "\n",
      "Cross-Validation accuracy: 0.487 +/- 0.002\n",
      "Fold:  3, Accuracy: 0.484\n",
      "\n",
      "\n",
      "Cross-Validation accuracy: 0.487 +/- 0.002\n"
     ]
    }
   ],
   "source": [
    "strtfdKFold = StratifiedKFold(n_splits=3)\n",
    "#splitting train 80 data into k folds\n",
    "kfold = strtfdKFold.split(X_train, y_train)\n",
    "scores = []\n",
    "#performing kfold cross validation\n",
    "for k, (train, test) in enumerate(kfold):\n",
    "    model_naive.fit(X_train[train, :], y_train[train])\n",
    "    preds = model_naive.predict(X_train[test, :])\n",
    "    score = accuracy_score(y_train[test],preds)\n",
    "    scores.append(score)\n",
    "    print('Fold: %2d, Accuracy: %.3f' % (k+1, score))\n",
    "    print('\\n\\nCross-Validation accuracy: %.3f +/- %.3f' %(np.mean(scores), np.std(scores)))\n",
    "\n"
   ]
  },
  {
   "cell_type": "code",
   "execution_count": null,
   "id": "2bb71410-30ef-4042-b9fd-f044dee2c85a",
   "metadata": {},
   "outputs": [],
   "source": []
  }
 ],
 "metadata": {
  "colab": {
   "provenance": []
  },
  "kernelspec": {
   "display_name": "Python 3.10.4 64-bit",
   "language": "python",
   "name": "python3"
  },
  "language_info": {
   "codemirror_mode": {
    "name": "ipython",
    "version": 3
   },
   "file_extension": ".py",
   "mimetype": "text/x-python",
   "name": "python",
   "nbconvert_exporter": "python",
   "pygments_lexer": "ipython3",
   "version": "3.10.4"
  },
  "vscode": {
   "interpreter": {
    "hash": "4d536800d27c51602b26d7e23a7b347bd37d1d65ee7fdd104b4efc2c92c4d087"
   }
  }
 },
 "nbformat": 4,
 "nbformat_minor": 5
}
